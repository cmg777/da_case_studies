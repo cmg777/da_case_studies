{
 "cells": [
  {
   "cell_type": "markdown",
   "metadata": {},
   "source": [
    "#### Prepared for Gabor's Data Analysis\n",
    "\n",
    "### Data Analysis for Business, Economics, and Policy\n",
    "by Gabor Bekes and  Gabor Kezdi\n",
    " \n",
    "Cambridge University Press 2021\n",
    "\n",
    "**[gabors-data-analysis.com ](https://gabors-data-analysis.com/)**\n",
    "\n",
    " License: Free to share, modify and use for educational purposes. \n",
    " Not to be used for commercial purposes.\n",
    "\n",
    "### Chapter 14\n",
    "**CH14B Predicting AirBnB apartment prices: selecting a regression model**\n",
    "\n",
    "using the airbnb dataset\n",
    "\n",
    "version 0.8 2021-07-15"
   ]
  },
  {
   "cell_type": "code",
   "execution_count": 1,
   "metadata": {},
   "outputs": [],
   "source": [
    "import os\n",
    "import sys\n",
    "import warnings\n",
    "\n",
    "import numpy as np\n",
    "import pandas as pd\n",
    "import regex as re\n",
    "import statsmodels.api as sm\n",
    "import statsmodels.formula.api as smf\n",
    "from mizani.formatters import percent_format\n",
    "from plotnine import *\n",
    "\n",
    "warnings.filterwarnings(\"ignore\")\n"
   ]
  },
  {
   "cell_type": "code",
   "execution_count": 2,
   "metadata": {},
   "outputs": [],
   "source": [
    "# Current script folder\n",
    "current_path = os.getcwd()\n",
    "dirname = current_path.split(\"da_case_studies\")[0]\n",
    "\n",
    "# location folders\n",
    "data_in = dirname + \"da_data_repo/airbnb/clean/\"\n",
    "data_out = dirname + \"da_case_studies/ch14-airbnb-reg/\"\n",
    "output = dirname + \"da_case_studies/ch14-airbnb-reg/output/\"\n",
    "func = dirname + \"da_case_studies/ch00-tech-prep/\"\n",
    "sys.path.append(func)\n",
    "\n",
    "from py_helper_functions import *\n"
   ]
  },
  {
   "cell_type": "code",
   "execution_count": 3,
   "metadata": {},
   "outputs": [],
   "source": [
    "# Import data\n",
    "data = pd.read_csv(data_in + \"airbnb_london_cleaned_book.csv\", index_col=0)\n"
   ]
  },
  {
   "cell_type": "code",
   "execution_count": 4,
   "metadata": {},
   "outputs": [
    {
     "name": "stdout",
     "output_type": "stream",
     "text": [
      "number_of_reviews\n",
      "reviews_per_month\n"
     ]
    }
   ],
   "source": [
    "for g in data.columns:\n",
    "    if \"reviews\" in g:\n",
    "        print(g)\n"
   ]
  },
  {
   "cell_type": "code",
   "execution_count": 5,
   "metadata": {},
   "outputs": [
    {
     "data": {
      "text/plain": [
       "Apartment             38270\n",
       "House                 13055\n",
       "Bed & Breakfast        1066\n",
       "Townhouse               372\n",
       "Other                   267\n",
       "Loft                    254\n",
       "Dorm                    127\n",
       "Guesthouse               81\n",
       "Boat                     69\n",
       "Serviced apartment       65\n",
       "Condominium              56\n",
       "Bungalow                 47\n",
       "Boutique hotel           35\n",
       "Hostel                   32\n",
       "Cabin                    32\n",
       "Villa                    12\n",
       "Camper/RV                 9\n",
       "Chalet                    9\n",
       "Yurt                      4\n",
       "Hut                       3\n",
       "Castle                    3\n",
       "Tent                      2\n",
       "Parking Space             2\n",
       "Ryokan (Japan)            1\n",
       "Lighthouse                1\n",
       "Igloo                     1\n",
       "Cave                      1\n",
       "Name: property_type, dtype: int64"
      ]
     },
     "execution_count": 5,
     "metadata": {},
     "output_type": "execute_result"
    }
   ],
   "source": [
    "data.property_type.value_counts()\n"
   ]
  },
  {
   "cell_type": "code",
   "execution_count": 6,
   "metadata": {},
   "outputs": [],
   "source": [
    "# Rename roomt type because it is too long\n",
    "data = data.loc[data.property_type.isin([\"Apartment\", \"House\", \"Townhouse\"])]\n"
   ]
  },
  {
   "cell_type": "code",
   "execution_count": 7,
   "metadata": {},
   "outputs": [],
   "source": [
    "data.property_type = [x if x != \"Townhouse\" else \"House\" for x in data.property_type]\n",
    "data[\"f_property_type\"] = data[\"property_type\"].astype(\"category\")\n",
    "data[\"f_room_type\"] = data[\"room_type\"].astype(\"category\")\n",
    "data[\"f_room_type2\"] = (\n",
    "    data[\"f_room_type\"]\n",
    "    .replace(\n",
    "        {\n",
    "            \"Entire home/apt\": \"Entire/Apt\",\n",
    "            \"Private room\": \"Private\",\n",
    "            \"Shared room\": \"Shared\",\n",
    "        }\n",
    "    )\n",
    "    .astype(\"category\")\n",
    ")\n"
   ]
  },
  {
   "cell_type": "code",
   "execution_count": 8,
   "metadata": {},
   "outputs": [
    {
     "data": {
      "text/plain": [
       "strict             21287\n",
       "flexible           18435\n",
       "moderate           11959\n",
       "super_strict_30       15\n",
       "super_strict_60        1\n",
       "Name: cancellation_policy, dtype: int64"
      ]
     },
     "execution_count": 8,
     "metadata": {},
     "output_type": "execute_result"
    }
   ],
   "source": [
    "# cancellation policy as factor\n",
    "data.cancellation_policy.value_counts()\n"
   ]
  },
  {
   "cell_type": "code",
   "execution_count": 9,
   "metadata": {
    "scrolled": true
   },
   "outputs": [],
   "source": [
    "data[\"cancellation_policy\"] = [\n",
    "    \"strict\" if x in (\"super_strict_30\", \"super_strict_60\") else x\n",
    "    for x in data.cancellation_policy\n",
    "]\n",
    "data[\"f_cancellation_policy\"] = data[\"cancellation_policy\"].astype(\"category\")\n"
   ]
  },
  {
   "cell_type": "code",
   "execution_count": 10,
   "metadata": {},
   "outputs": [
    {
     "data": {
      "text/plain": [
       "Real Bed         50701\n",
       "Pull-out Sofa      600\n",
       "Futon              239\n",
       "Couch               98\n",
       "Airbed              59\n",
       "Name: bed_type, dtype: int64"
      ]
     },
     "execution_count": 10,
     "metadata": {},
     "output_type": "execute_result"
    }
   ],
   "source": [
    "data.bed_type.value_counts()\n"
   ]
  },
  {
   "cell_type": "code",
   "execution_count": 11,
   "metadata": {},
   "outputs": [],
   "source": [
    "data[\"bed_type\"] = [\n",
    "    \"Couch\" if x in (\"Futon\", \"Pull-out Sofa\", \"Airbed\") else x for x in data.bed_type\n",
    "]\n",
    "data[\"f_bed_type\"] = data[\"bed_type\"].astype(\"category\")\n",
    "data[\"f_neighbourhood_cleansed\"] = data[\"neighbourhood_cleansed\"].astype(\"category\")\n"
   ]
  },
  {
   "cell_type": "code",
   "execution_count": 12,
   "metadata": {},
   "outputs": [],
   "source": [
    "## Create Numerical variables\n",
    "data[\"usd_price_day\"] = data[\"price\"]\n",
    "data[\"p_host_response_rate\"] = data[\"host_response_rate\"].astype(\"float\")\n",
    "data = data.rename({\"cleaning_fee\": \"usd_cleaning_fee\"}, axis=1)\n"
   ]
  },
  {
   "cell_type": "code",
   "execution_count": 13,
   "metadata": {},
   "outputs": [],
   "source": [
    "for column in (\n",
    "    \"accommodates\",\n",
    "    \"bathrooms\",\n",
    "    \"review_scores_rating\",\n",
    "    \"number_of_reviews\",\n",
    "    \"guests_included\",\n",
    "    \"reviews_per_month\",\n",
    "    \"extra_people\",\n",
    "    \"minimum_nights\",\n",
    "    \"beds\",\n",
    "):\n",
    "    data[\"n_\" + re.sub(r\"[^[:alnum:]_]\", \"\", column.lower())] = data[column].astype(\n",
    "        \"float\"\n",
    "    )\n"
   ]
  },
  {
   "cell_type": "code",
   "execution_count": 14,
   "metadata": {},
   "outputs": [],
   "source": [
    "data[\"n_days_since\"] = pd.to_datetime(\n",
    "    data[\"calendar_last_scraped\"], format=\"%Y-%m-%d\"\n",
    ") - pd.to_datetime(data[\"first_review\"], format=\"%Y-%m-%d\")\n",
    "# Previous row creates a timedelta object in each row. Get the elapsed number of days like:\n",
    "data[\"n_days_since\"] = [x.days for x in data[\"n_days_since\"]]\n"
   ]
  },
  {
   "cell_type": "code",
   "execution_count": 15,
   "metadata": {},
   "outputs": [],
   "source": [
    "for col in data.columns[71:121]:\n",
    "    data[\"d_\" + re.sub(r\"[^[:alnum:]_]\", \"\", col.lower())] = data[col].astype(int)\n"
   ]
  },
  {
   "cell_type": "code",
   "execution_count": 16,
   "metadata": {},
   "outputs": [
    {
     "data": {
      "text/plain": [
       "50"
      ]
     },
     "execution_count": 16,
     "metadata": {},
     "output_type": "execute_result"
    }
   ],
   "source": [
    "amenities = list(data.filter(regex=\"^d_.*\"))\n",
    "len(amenities)\n"
   ]
  },
  {
   "cell_type": "code",
   "execution_count": 17,
   "metadata": {
    "scrolled": false
   },
   "outputs": [
    {
     "data": {
      "text/plain": [
       "Index(['usd_cleaning_fee', 'f_property_type', 'f_room_type', 'f_room_type2',\n",
       "       'f_cancellation_policy', 'f_bed_type', 'f_neighbourhood_cleansed',\n",
       "       'usd_price_day', 'p_host_response_rate', 'n_accommodates',\n",
       "       'n_bathrooms', 'n_review_scores_rating', 'n_number_of_reviews',\n",
       "       'n_guests_included', 'n_reviews_per_month', 'n_extra_people',\n",
       "       'n_minimum_nights', 'n_beds', 'n_days_since', 'd_24hourcheckin',\n",
       "       'd_airconditioning', 'd_breakfast', 'd_buzzerwirelessintercom',\n",
       "       'd_cabletv', 'd_carbonmonoxidedetector', 'd_cats', 'd_dogs',\n",
       "       'd_doorman', 'd_doormanentry', 'd_dryer', 'd_elevatorinbuilding',\n",
       "       'd_essentials', 'd_familykidfriendly', 'd_fireextinguisher',\n",
       "       'd_firstaidkit', 'd_freeparkingonpremises', 'd_freeparkingonstreet',\n",
       "       'd_gym', 'd_hairdryer', 'd_hangers', 'd_heating', 'd_hottub',\n",
       "       'd_indoorfireplace', 'd_internet', 'd_iron', 'd_keypad', 'd_kitchen',\n",
       "       'd_laptopfriendlyworkspace', 'd_lockonbedroomdoor', 'd_lockbox',\n",
       "       'd_otherpets', 'd_paidparkingoffpremises', 'd_petsallowed',\n",
       "       'd_petsliveonthisproperty', 'd_pool', 'd_privateentrance',\n",
       "       'd_privatelivingroom', 'd_safetycard', 'd_selfcheckin', 'd_shampoo',\n",
       "       'd_smartlock', 'd_smokedetector', 'd_smokingallowed',\n",
       "       'd_suitableforevents', 'd_tv', 'd_washer', 'd_washerdryer',\n",
       "       'd_wheelchairaccessible', 'd_wirelessinternet'],\n",
       "      dtype='object')"
      ]
     },
     "execution_count": 17,
     "metadata": {},
     "output_type": "execute_result"
    }
   ],
   "source": [
    "data.filter(regex=(\"^d_.*|^n_.*|^f_.*|^p_.*|^usd_.*\")).columns\n"
   ]
  },
  {
   "cell_type": "code",
   "execution_count": 18,
   "metadata": {},
   "outputs": [],
   "source": [
    "# keep columns if contain d_, n_,f_, p_, usd_ and some others\n",
    "data = data.filter(regex=(\"^d_.*|^n_.*|^f_.*|^p_.*|^usd_.*\")).join(\n",
    "    data[\n",
    "        [\n",
    "            \"price\",\n",
    "            \"id\",\n",
    "            \"neighbourhood_cleansed\",\n",
    "            \"cancellation_policy\",\n",
    "            \"room_type\",\n",
    "            \"property_type\",\n",
    "        ]\n",
    "    ]\n",
    ")\n"
   ]
  },
  {
   "cell_type": "code",
   "execution_count": 19,
   "metadata": {
    "scrolled": false
   },
   "outputs": [],
   "source": [
    "# with price info only\n",
    "data = data.dropna(subset=[\"price\"])\n"
   ]
  },
  {
   "cell_type": "code",
   "execution_count": 20,
   "metadata": {},
   "outputs": [],
   "source": [
    "##################################\n",
    "# DESCRIBE\n",
    "data = data.loc[data.neighbourhood_cleansed == \"Hackney\"]\n"
   ]
  },
  {
   "cell_type": "code",
   "execution_count": 21,
   "metadata": {},
   "outputs": [
    {
     "data": {
      "text/plain": [
       "4499"
      ]
     },
     "execution_count": 21,
     "metadata": {},
     "output_type": "execute_result"
    }
   ],
   "source": [
    "N = data.shape[0]\n",
    "N\n"
   ]
  },
  {
   "cell_type": "code",
   "execution_count": 22,
   "metadata": {},
   "outputs": [],
   "source": [
    "#####################\n",
    "### look at price ###\n",
    "#####################\n",
    "# data['price']=[x.replace(',','') for x in data['price']]\n",
    "data[\"price\"] = data[\"price\"].str.replace(\",\", \"\").astype(\"float\")\n"
   ]
  },
  {
   "cell_type": "code",
   "execution_count": 23,
   "metadata": {},
   "outputs": [
    {
     "data": {
      "text/plain": [
       "count    4499.000000\n",
       "mean       82.523227\n",
       "std       119.327855\n",
       "min        10.000000\n",
       "25%        40.000000\n",
       "50%        65.000000\n",
       "75%       100.000000\n",
       "max      6890.000000\n",
       "Name: price, dtype: float64"
      ]
     },
     "execution_count": 23,
     "metadata": {},
     "output_type": "execute_result"
    }
   ],
   "source": [
    "data.price.describe()\n"
   ]
  },
  {
   "cell_type": "code",
   "execution_count": 24,
   "metadata": {},
   "outputs": [],
   "source": [
    "data[\"ln_price\"] = np.log(data.price)\n"
   ]
  },
  {
   "cell_type": "code",
   "execution_count": 25,
   "metadata": {},
   "outputs": [],
   "source": [
    "# Remove extreme values + missing from prices (this case: only 3 missing values)\n",
    "data = data.loc[data.price < 1000]\n"
   ]
  },
  {
   "cell_type": "code",
   "execution_count": 26,
   "metadata": {},
   "outputs": [
    {
     "data": {
      "image/png": "[encoded data removed]",
      "text/plain": [
       "<Figure size 640x480 with 1 Axes>"
      ]
     },
     "metadata": {},
     "output_type": "display_data"
    },
    {
     "data": {
      "text/plain": [
       "<ggplot: (368711328)>"
      ]
     },
     "execution_count": 26,
     "metadata": {},
     "output_type": "execute_result"
    }
   ],
   "source": [
    "# Histograms\n",
    "(\n",
    "    ggplot(data, aes(\"ln_price\"))\n",
    "    + geom_histogram(\n",
    "        binwidth=0.15, fill=color[0], color=\"white\", alpha=0.8, size=0.25, closed=\"left\"\n",
    "    )\n",
    "    + ylab(\"Count\")\n",
    "    + xlab(\"Log price\")\n",
    "    + theme_bw()\n",
    ")\n"
   ]
  },
  {
   "cell_type": "code",
   "execution_count": 27,
   "metadata": {},
   "outputs": [
    {
     "data": {
      "image/png": "[encoded data removed]",
      "text/plain": [
       "<Figure size 640x480 with 1 Axes>"
      ]
     },
     "metadata": {},
     "output_type": "display_data"
    },
    {
     "data": {
      "text/plain": [
       "<ggplot: (368770588)>"
      ]
     },
     "execution_count": 27,
     "metadata": {},
     "output_type": "execute_result"
    }
   ],
   "source": [
    "(\n",
    "    ggplot(data, aes(\"price\"))\n",
    "    + geom_histogram(\n",
    "        binwidth=25, fill=color[0], color=\"white\", alpha=0.8, size=0.25, closed=\"left\"\n",
    "    )\n",
    "    + ylab(\"count\")\n",
    "    + xlab(\"Price\")\n",
    "    + theme_bw()\n",
    ")\n"
   ]
  },
  {
   "cell_type": "code",
   "execution_count": 28,
   "metadata": {},
   "outputs": [],
   "source": [
    "################################################\n",
    "\n",
    "# look at some cnts. key vars, functional form #\n",
    "\n",
    "################################################\n"
   ]
  },
  {
   "cell_type": "code",
   "execution_count": 29,
   "metadata": {
    "scrolled": false
   },
   "outputs": [
    {
     "data": {
      "text/html": [
       "<div>\n",
       "<style scoped>\n",
       "    .dataframe tbody tr th:only-of-type {\n",
       "        vertical-align: middle;\n",
       "    }\n",
       "\n",
       "    .dataframe tbody tr th {\n",
       "        vertical-align: top;\n",
       "    }\n",
       "\n",
       "    .dataframe thead th {\n",
       "        text-align: right;\n",
       "    }\n",
       "</style>\n",
       "<table border=\"1\" class=\"dataframe\">\n",
       "  <thead>\n",
       "    <tr style=\"text-align: right;\">\n",
       "      <th></th>\n",
       "      <th>mean_price</th>\n",
       "      <th>min_price</th>\n",
       "      <th>max_price</th>\n",
       "      <th>n</th>\n",
       "    </tr>\n",
       "    <tr>\n",
       "      <th>n_accommodates</th>\n",
       "      <th></th>\n",
       "      <th></th>\n",
       "      <th></th>\n",
       "      <th></th>\n",
       "    </tr>\n",
       "  </thead>\n",
       "  <tbody>\n",
       "    <tr>\n",
       "      <th>1.0</th>\n",
       "      <td>40.699065</td>\n",
       "      <td>10.0</td>\n",
       "      <td>850.0</td>\n",
       "      <td>535</td>\n",
       "    </tr>\n",
       "    <tr>\n",
       "      <th>2.0</th>\n",
       "      <td>58.558369</td>\n",
       "      <td>11.0</td>\n",
       "      <td>800.0</td>\n",
       "      <td>2330</td>\n",
       "    </tr>\n",
       "    <tr>\n",
       "      <th>3.0</th>\n",
       "      <td>87.254826</td>\n",
       "      <td>25.0</td>\n",
       "      <td>280.0</td>\n",
       "      <td>259</td>\n",
       "    </tr>\n",
       "    <tr>\n",
       "      <th>4.0</th>\n",
       "      <td>110.173629</td>\n",
       "      <td>20.0</td>\n",
       "      <td>400.0</td>\n",
       "      <td>766</td>\n",
       "    </tr>\n",
       "    <tr>\n",
       "      <th>5.0</th>\n",
       "      <td>125.018519</td>\n",
       "      <td>30.0</td>\n",
       "      <td>350.0</td>\n",
       "      <td>162</td>\n",
       "    </tr>\n",
       "    <tr>\n",
       "      <th>6.0</th>\n",
       "      <td>155.321799</td>\n",
       "      <td>47.0</td>\n",
       "      <td>400.0</td>\n",
       "      <td>289</td>\n",
       "    </tr>\n",
       "    <tr>\n",
       "      <th>7.0</th>\n",
       "      <td>174.903846</td>\n",
       "      <td>49.0</td>\n",
       "      <td>450.0</td>\n",
       "      <td>52</td>\n",
       "    </tr>\n",
       "    <tr>\n",
       "      <th>8.0</th>\n",
       "      <td>192.322581</td>\n",
       "      <td>75.0</td>\n",
       "      <td>450.0</td>\n",
       "      <td>62</td>\n",
       "    </tr>\n",
       "    <tr>\n",
       "      <th>9.0</th>\n",
       "      <td>197.900000</td>\n",
       "      <td>135.0</td>\n",
       "      <td>250.0</td>\n",
       "      <td>10</td>\n",
       "    </tr>\n",
       "    <tr>\n",
       "      <th>10.0</th>\n",
       "      <td>244.944444</td>\n",
       "      <td>135.0</td>\n",
       "      <td>440.0</td>\n",
       "      <td>18</td>\n",
       "    </tr>\n",
       "    <tr>\n",
       "      <th>11.0</th>\n",
       "      <td>276.500000</td>\n",
       "      <td>200.0</td>\n",
       "      <td>353.0</td>\n",
       "      <td>2</td>\n",
       "    </tr>\n",
       "    <tr>\n",
       "      <th>12.0</th>\n",
       "      <td>253.250000</td>\n",
       "      <td>159.0</td>\n",
       "      <td>375.0</td>\n",
       "      <td>4</td>\n",
       "    </tr>\n",
       "    <tr>\n",
       "      <th>13.0</th>\n",
       "      <td>325.000000</td>\n",
       "      <td>275.0</td>\n",
       "      <td>375.0</td>\n",
       "      <td>2</td>\n",
       "    </tr>\n",
       "    <tr>\n",
       "      <th>14.0</th>\n",
       "      <td>365.750000</td>\n",
       "      <td>98.0</td>\n",
       "      <td>495.0</td>\n",
       "      <td>4</td>\n",
       "    </tr>\n",
       "    <tr>\n",
       "      <th>16.0</th>\n",
       "      <td>750.000000</td>\n",
       "      <td>750.0</td>\n",
       "      <td>750.0</td>\n",
       "      <td>1</td>\n",
       "    </tr>\n",
       "  </tbody>\n",
       "</table>\n",
       "</div>"
      ],
      "text/plain": [
       "                mean_price  min_price  max_price     n\n",
       "n_accommodates                                        \n",
       "1.0              40.699065       10.0      850.0   535\n",
       "2.0              58.558369       11.0      800.0  2330\n",
       "3.0              87.254826       25.0      280.0   259\n",
       "4.0             110.173629       20.0      400.0   766\n",
       "5.0             125.018519       30.0      350.0   162\n",
       "6.0             155.321799       47.0      400.0   289\n",
       "7.0             174.903846       49.0      450.0    52\n",
       "8.0             192.322581       75.0      450.0    62\n",
       "9.0             197.900000      135.0      250.0    10\n",
       "10.0            244.944444      135.0      440.0    18\n",
       "11.0            276.500000      200.0      353.0     2\n",
       "12.0            253.250000      159.0      375.0     4\n",
       "13.0            325.000000      275.0      375.0     2\n",
       "14.0            365.750000       98.0      495.0     4\n",
       "16.0            750.000000      750.0      750.0     1"
      ]
     },
     "execution_count": 29,
     "metadata": {},
     "output_type": "execute_result"
    }
   ],
   "source": [
    "data.groupby(\"n_accommodates\").agg(\n",
    "    mean_price=(\"price\", np.mean),\n",
    "    min_price=(\"price\", np.min),\n",
    "    max_price=(\"price\", np.max),\n",
    "    n=(\"price\", \"size\"),\n",
    ")\n"
   ]
  },
  {
   "cell_type": "code",
   "execution_count": 30,
   "metadata": {},
   "outputs": [
    {
     "data": {
      "image/png": "[encoded data removed]",
      "text/plain": [
       "<Figure size 640x480 with 1 Axes>"
      ]
     },
     "metadata": {},
     "output_type": "display_data"
    },
    {
     "data": {
      "text/plain": [
       "<ggplot: (368657960)>"
      ]
     },
     "execution_count": 30,
     "metadata": {},
     "output_type": "execute_result"
    }
   ],
   "source": [
    "(\n",
    "    ggplot(data, aes(x=\"n_accommodates\", y=\"price\"))\n",
    "    + geom_point(size=1, colour=color[0])\n",
    "    + ylim(0, 800)\n",
    "    + xlim(0, 15)\n",
    "    + labs(x=\"Number of people accomodated\", y=\"Price\")\n",
    "    + geom_smooth(method=\"lm\", colour=color[1], se=False)\n",
    "    + theme_bw()\n",
    ")\n"
   ]
  },
  {
   "cell_type": "code",
   "execution_count": 31,
   "metadata": {},
   "outputs": [],
   "source": [
    "data[\"n_accommodates2\"] = data[\"n_accommodates\"] ** 2\n",
    "data[\"ln_accommodates\"] = np.log(data[\"n_accommodates\"])\n",
    "data[\"ln_accommodates2\"] = data[\"ln_accommodates\"] ** 2"
   ]
  },
  {
   "cell_type": "code",
   "execution_count": 32,
   "metadata": {},
   "outputs": [
    {
     "data": {
      "text/html": [
       "<table class=\"simpletable\">\n",
       "<caption>OLS Regression Results</caption>\n",
       "<tr>\n",
       "  <th>Dep. Variable:</th>        <td>ln_price</td>     <th>  R-squared:         </th> <td>   0.514</td>\n",
       "</tr>\n",
       "<tr>\n",
       "  <th>Model:</th>                   <td>OLS</td>       <th>  Adj. R-squared:    </th> <td>   0.514</td>\n",
       "</tr>\n",
       "<tr>\n",
       "  <th>Method:</th>             <td>Least Squares</td>  <th>  F-statistic:       </th> <td>   2381.</td>\n",
       "</tr>\n",
       "<tr>\n",
       "  <th>Date:</th>             <td>Thu, 06 Oct 2022</td> <th>  Prob (F-statistic):</th>  <td>  0.00</td> \n",
       "</tr>\n",
       "<tr>\n",
       "  <th>Time:</th>                 <td>11:38:19</td>     <th>  Log-Likelihood:    </th> <td> -2550.0</td>\n",
       "</tr>\n",
       "<tr>\n",
       "  <th>No. Observations:</th>      <td>  4496</td>      <th>  AIC:               </th> <td>   5106.</td>\n",
       "</tr>\n",
       "<tr>\n",
       "  <th>Df Residuals:</th>          <td>  4493</td>      <th>  BIC:               </th> <td>   5125.</td>\n",
       "</tr>\n",
       "<tr>\n",
       "  <th>Df Model:</th>              <td>     2</td>      <th>                     </th>     <td> </td>   \n",
       "</tr>\n",
       "<tr>\n",
       "  <th>Covariance Type:</th>      <td>nonrobust</td>    <th>                     </th>     <td> </td>   \n",
       "</tr>\n",
       "</table>\n",
       "<table class=\"simpletable\">\n",
       "<tr>\n",
       "         <td></td>            <th>coef</th>     <th>std err</th>      <th>t</th>      <th>P>|t|</th>  <th>[0.025</th>    <th>0.975]</th>  \n",
       "</tr>\n",
       "<tr>\n",
       "  <th>Intercept</th>       <td>    3.2095</td> <td>    0.020</td> <td>  157.554</td> <td> 0.000</td> <td>    3.170</td> <td>    3.249</td>\n",
       "</tr>\n",
       "<tr>\n",
       "  <th>n_accommodates</th>  <td>    0.4180</td> <td>    0.011</td> <td>   38.828</td> <td> 0.000</td> <td>    0.397</td> <td>    0.439</td>\n",
       "</tr>\n",
       "<tr>\n",
       "  <th>n_accommodates2</th> <td>   -0.0193</td> <td>    0.001</td> <td>  -16.884</td> <td> 0.000</td> <td>   -0.022</td> <td>   -0.017</td>\n",
       "</tr>\n",
       "</table>\n",
       "<table class=\"simpletable\">\n",
       "<tr>\n",
       "  <th>Omnibus:</th>       <td>285.213</td> <th>  Durbin-Watson:     </th> <td>   1.968</td> \n",
       "</tr>\n",
       "<tr>\n",
       "  <th>Prob(Omnibus):</th> <td> 0.000</td>  <th>  Jarque-Bera (JB):  </th> <td> 586.152</td> \n",
       "</tr>\n",
       "<tr>\n",
       "  <th>Skew:</th>          <td> 0.433</td>  <th>  Prob(JB):          </th> <td>5.23e-128</td>\n",
       "</tr>\n",
       "<tr>\n",
       "  <th>Kurtosis:</th>      <td> 4.543</td>  <th>  Cond. No.          </th> <td>    71.3</td> \n",
       "</tr>\n",
       "</table><br/><br/>Notes:<br/>[1] Standard Errors assume that the covariance matrix of the errors is correctly specified."
      ],
      "text/plain": [
       "<class 'statsmodels.iolib.summary.Summary'>\n",
       "\"\"\"\n",
       "                            OLS Regression Results                            \n",
       "==============================================================================\n",
       "Dep. Variable:               ln_price   R-squared:                       0.514\n",
       "Model:                            OLS   Adj. R-squared:                  0.514\n",
       "Method:                 Least Squares   F-statistic:                     2381.\n",
       "Date:                Thu, 06 Oct 2022   Prob (F-statistic):               0.00\n",
       "Time:                        11:38:19   Log-Likelihood:                -2550.0\n",
       "No. Observations:                4496   AIC:                             5106.\n",
       "Df Residuals:                    4493   BIC:                             5125.\n",
       "Df Model:                           2                                         \n",
       "Covariance Type:            nonrobust                                         \n",
       "===================================================================================\n",
       "                      coef    std err          t      P>|t|      [0.025      0.975]\n",
       "-----------------------------------------------------------------------------------\n",
       "Intercept           3.2095      0.020    157.554      0.000       3.170       3.249\n",
       "n_accommodates      0.4180      0.011     38.828      0.000       0.397       0.439\n",
       "n_accommodates2    -0.0193      0.001    -16.884      0.000      -0.022      -0.017\n",
       "==============================================================================\n",
       "Omnibus:                      285.213   Durbin-Watson:                   1.968\n",
       "Prob(Omnibus):                  0.000   Jarque-Bera (JB):              586.152\n",
       "Skew:                           0.433   Prob(JB):                    5.23e-128\n",
       "Kurtosis:                       4.543   Cond. No.                         71.3\n",
       "==============================================================================\n",
       "\n",
       "Notes:\n",
       "[1] Standard Errors assume that the covariance matrix of the errors is correctly specified.\n",
       "\"\"\""
      ]
     },
     "execution_count": 32,
     "metadata": {},
     "output_type": "execute_result"
    }
   ],
   "source": [
    "# Regression 1: ln price and num of accomodates and squares\n",
    "smf.ols(\n",
    "    formula=\"ln_price ~ n_accommodates + n_accommodates2\", data=data\n",
    ").fit().summary()\n"
   ]
  },
  {
   "cell_type": "code",
   "execution_count": 33,
   "metadata": {},
   "outputs": [
    {
     "data": {
      "text/html": [
       "<table class=\"simpletable\">\n",
       "<caption>OLS Regression Results</caption>\n",
       "<tr>\n",
       "  <th>Dep. Variable:</th>        <td>ln_price</td>     <th>  R-squared:         </th> <td>   0.511</td>\n",
       "</tr>\n",
       "<tr>\n",
       "  <th>Model:</th>                   <td>OLS</td>       <th>  Adj. R-squared:    </th> <td>   0.511</td>\n",
       "</tr>\n",
       "<tr>\n",
       "  <th>Method:</th>             <td>Least Squares</td>  <th>  F-statistic:       </th> <td>   4702.</td>\n",
       "</tr>\n",
       "<tr>\n",
       "  <th>Date:</th>             <td>Thu, 06 Oct 2022</td> <th>  Prob (F-statistic):</th>  <td>  0.00</td> \n",
       "</tr>\n",
       "<tr>\n",
       "  <th>Time:</th>                 <td>11:38:19</td>     <th>  Log-Likelihood:    </th> <td> -2564.8</td>\n",
       "</tr>\n",
       "<tr>\n",
       "  <th>No. Observations:</th>      <td>  4496</td>      <th>  AIC:               </th> <td>   5134.</td>\n",
       "</tr>\n",
       "<tr>\n",
       "  <th>Df Residuals:</th>          <td>  4494</td>      <th>  BIC:               </th> <td>   5146.</td>\n",
       "</tr>\n",
       "<tr>\n",
       "  <th>Df Model:</th>              <td>     1</td>      <th>                     </th>     <td> </td>   \n",
       "</tr>\n",
       "<tr>\n",
       "  <th>Covariance Type:</th>      <td>nonrobust</td>    <th>                     </th>     <td> </td>   \n",
       "</tr>\n",
       "</table>\n",
       "<table class=\"simpletable\">\n",
       "<tr>\n",
       "         <td></td>            <th>coef</th>     <th>std err</th>      <th>t</th>      <th>P>|t|</th>  <th>[0.025</th>    <th>0.975]</th>  \n",
       "</tr>\n",
       "<tr>\n",
       "  <th>Intercept</th>       <td>    3.4452</td> <td>    0.013</td> <td>  273.070</td> <td> 0.000</td> <td>    3.420</td> <td>    3.470</td>\n",
       "</tr>\n",
       "<tr>\n",
       "  <th>ln_accommodates</th> <td>    0.8249</td> <td>    0.012</td> <td>   68.568</td> <td> 0.000</td> <td>    0.801</td> <td>    0.848</td>\n",
       "</tr>\n",
       "</table>\n",
       "<table class=\"simpletable\">\n",
       "<tr>\n",
       "  <th>Omnibus:</th>       <td>289.763</td> <th>  Durbin-Watson:     </th> <td>   1.952</td> \n",
       "</tr>\n",
       "<tr>\n",
       "  <th>Prob(Omnibus):</th> <td> 0.000</td>  <th>  Jarque-Bera (JB):  </th> <td> 684.731</td> \n",
       "</tr>\n",
       "<tr>\n",
       "  <th>Skew:</th>          <td> 0.396</td>  <th>  Prob(JB):          </th> <td>2.05e-149</td>\n",
       "</tr>\n",
       "<tr>\n",
       "  <th>Kurtosis:</th>      <td> 4.740</td>  <th>  Cond. No.          </th> <td>    3.68</td> \n",
       "</tr>\n",
       "</table><br/><br/>Notes:<br/>[1] Standard Errors assume that the covariance matrix of the errors is correctly specified."
      ],
      "text/plain": [
       "<class 'statsmodels.iolib.summary.Summary'>\n",
       "\"\"\"\n",
       "                            OLS Regression Results                            \n",
       "==============================================================================\n",
       "Dep. Variable:               ln_price   R-squared:                       0.511\n",
       "Model:                            OLS   Adj. R-squared:                  0.511\n",
       "Method:                 Least Squares   F-statistic:                     4702.\n",
       "Date:                Thu, 06 Oct 2022   Prob (F-statistic):               0.00\n",
       "Time:                        11:38:19   Log-Likelihood:                -2564.8\n",
       "No. Observations:                4496   AIC:                             5134.\n",
       "Df Residuals:                    4494   BIC:                             5146.\n",
       "Df Model:                           1                                         \n",
       "Covariance Type:            nonrobust                                         \n",
       "===================================================================================\n",
       "                      coef    std err          t      P>|t|      [0.025      0.975]\n",
       "-----------------------------------------------------------------------------------\n",
       "Intercept           3.4452      0.013    273.070      0.000       3.420       3.470\n",
       "ln_accommodates     0.8249      0.012     68.568      0.000       0.801       0.848\n",
       "==============================================================================\n",
       "Omnibus:                      289.763   Durbin-Watson:                   1.952\n",
       "Prob(Omnibus):                  0.000   Jarque-Bera (JB):              684.731\n",
       "Skew:                           0.396   Prob(JB):                    2.05e-149\n",
       "Kurtosis:                       4.740   Cond. No.                         3.68\n",
       "==============================================================================\n",
       "\n",
       "Notes:\n",
       "[1] Standard Errors assume that the covariance matrix of the errors is correctly specified.\n",
       "\"\"\""
      ]
     },
     "execution_count": 33,
     "metadata": {},
     "output_type": "execute_result"
    }
   ],
   "source": [
    "# Regression 2: ln price and log num of accomodates\n",
    "\n",
    "smf.ols(formula=\"ln_price ~ ln_accommodates\", data=data).fit().summary()\n"
   ]
  },
  {
   "cell_type": "code",
   "execution_count": 34,
   "metadata": {
    "scrolled": false
   },
   "outputs": [
    {
     "data": {
      "text/html": [
       "<table class=\"simpletable\">\n",
       "<caption>OLS Regression Results</caption>\n",
       "<tr>\n",
       "  <th>Dep. Variable:</th>        <td>ln_price</td>     <th>  R-squared:         </th> <td>   0.484</td>\n",
       "</tr>\n",
       "<tr>\n",
       "  <th>Model:</th>                   <td>OLS</td>       <th>  Adj. R-squared:    </th> <td>   0.484</td>\n",
       "</tr>\n",
       "<tr>\n",
       "  <th>Method:</th>             <td>Least Squares</td>  <th>  F-statistic:       </th> <td>   4210.</td>\n",
       "</tr>\n",
       "<tr>\n",
       "  <th>Date:</th>             <td>Thu, 06 Oct 2022</td> <th>  Prob (F-statistic):</th>  <td>  0.00</td> \n",
       "</tr>\n",
       "<tr>\n",
       "  <th>Time:</th>                 <td>11:38:19</td>     <th>  Log-Likelihood:    </th> <td> -2688.3</td>\n",
       "</tr>\n",
       "<tr>\n",
       "  <th>No. Observations:</th>      <td>  4496</td>      <th>  AIC:               </th> <td>   5381.</td>\n",
       "</tr>\n",
       "<tr>\n",
       "  <th>Df Residuals:</th>          <td>  4494</td>      <th>  BIC:               </th> <td>   5393.</td>\n",
       "</tr>\n",
       "<tr>\n",
       "  <th>Df Model:</th>              <td>     1</td>      <th>                     </th>     <td> </td>   \n",
       "</tr>\n",
       "<tr>\n",
       "  <th>Covariance Type:</th>      <td>nonrobust</td>    <th>                     </th>     <td> </td>   \n",
       "</tr>\n",
       "</table>\n",
       "<table class=\"simpletable\">\n",
       "<tr>\n",
       "         <td></td>           <th>coef</th>     <th>std err</th>      <th>t</th>      <th>P>|t|</th>  <th>[0.025</th>    <th>0.975]</th>  \n",
       "</tr>\n",
       "<tr>\n",
       "  <th>Intercept</th>      <td>    3.4830</td> <td>    0.013</td> <td>  273.420</td> <td> 0.000</td> <td>    3.458</td> <td>    3.508</td>\n",
       "</tr>\n",
       "<tr>\n",
       "  <th>n_accommodates</th> <td>    0.2473</td> <td>    0.004</td> <td>   64.884</td> <td> 0.000</td> <td>    0.240</td> <td>    0.255</td>\n",
       "</tr>\n",
       "</table>\n",
       "<table class=\"simpletable\">\n",
       "<tr>\n",
       "  <th>Omnibus:</th>       <td>182.797</td> <th>  Durbin-Watson:     </th> <td>   1.967</td>\n",
       "</tr>\n",
       "<tr>\n",
       "  <th>Prob(Omnibus):</th> <td> 0.000</td>  <th>  Jarque-Bera (JB):  </th> <td> 343.122</td>\n",
       "</tr>\n",
       "<tr>\n",
       "  <th>Skew:</th>          <td> 0.310</td>  <th>  Prob(JB):          </th> <td>3.10e-75</td>\n",
       "</tr>\n",
       "<tr>\n",
       "  <th>Kurtosis:</th>      <td> 4.203</td>  <th>  Cond. No.          </th> <td>    6.92</td>\n",
       "</tr>\n",
       "</table><br/><br/>Notes:<br/>[1] Standard Errors assume that the covariance matrix of the errors is correctly specified."
      ],
      "text/plain": [
       "<class 'statsmodels.iolib.summary.Summary'>\n",
       "\"\"\"\n",
       "                            OLS Regression Results                            \n",
       "==============================================================================\n",
       "Dep. Variable:               ln_price   R-squared:                       0.484\n",
       "Model:                            OLS   Adj. R-squared:                  0.484\n",
       "Method:                 Least Squares   F-statistic:                     4210.\n",
       "Date:                Thu, 06 Oct 2022   Prob (F-statistic):               0.00\n",
       "Time:                        11:38:19   Log-Likelihood:                -2688.3\n",
       "No. Observations:                4496   AIC:                             5381.\n",
       "Df Residuals:                    4494   BIC:                             5393.\n",
       "Df Model:                           1                                         \n",
       "Covariance Type:            nonrobust                                         \n",
       "==================================================================================\n",
       "                     coef    std err          t      P>|t|      [0.025      0.975]\n",
       "----------------------------------------------------------------------------------\n",
       "Intercept          3.4830      0.013    273.420      0.000       3.458       3.508\n",
       "n_accommodates     0.2473      0.004     64.884      0.000       0.240       0.255\n",
       "==============================================================================\n",
       "Omnibus:                      182.797   Durbin-Watson:                   1.967\n",
       "Prob(Omnibus):                  0.000   Jarque-Bera (JB):              343.122\n",
       "Skew:                           0.310   Prob(JB):                     3.10e-75\n",
       "Kurtosis:                       4.203   Cond. No.                         6.92\n",
       "==============================================================================\n",
       "\n",
       "Notes:\n",
       "[1] Standard Errors assume that the covariance matrix of the errors is correctly specified.\n",
       "\"\"\""
      ]
     },
     "execution_count": 34,
     "metadata": {},
     "output_type": "execute_result"
    }
   ],
   "source": [
    "# Regression 3: ln price and num of accomodates\n",
    "smf.ols(formula=\"ln_price ~ n_accommodates\", data=data).fit().summary()\n"
   ]
  },
  {
   "cell_type": "code",
   "execution_count": 35,
   "metadata": {},
   "outputs": [
    {
     "data": {
      "text/html": [
       "<div>\n",
       "<style scoped>\n",
       "    .dataframe tbody tr th:only-of-type {\n",
       "        vertical-align: middle;\n",
       "    }\n",
       "\n",
       "    .dataframe tbody tr th {\n",
       "        vertical-align: top;\n",
       "    }\n",
       "\n",
       "    .dataframe thead th {\n",
       "        text-align: right;\n",
       "    }\n",
       "</style>\n",
       "<table border=\"1\" class=\"dataframe\">\n",
       "  <thead>\n",
       "    <tr style=\"text-align: right;\">\n",
       "      <th></th>\n",
       "      <th>mean_price</th>\n",
       "      <th>min_price</th>\n",
       "      <th>max_price</th>\n",
       "      <th>n</th>\n",
       "    </tr>\n",
       "    <tr>\n",
       "      <th>n_beds</th>\n",
       "      <th></th>\n",
       "      <th></th>\n",
       "      <th></th>\n",
       "      <th></th>\n",
       "    </tr>\n",
       "  </thead>\n",
       "  <tbody>\n",
       "    <tr>\n",
       "      <th>1.0</th>\n",
       "      <td>57.315807</td>\n",
       "      <td>10.0</td>\n",
       "      <td>850.0</td>\n",
       "      <td>2948</td>\n",
       "    </tr>\n",
       "    <tr>\n",
       "      <th>2.0</th>\n",
       "      <td>107.765273</td>\n",
       "      <td>24.0</td>\n",
       "      <td>400.0</td>\n",
       "      <td>933</td>\n",
       "    </tr>\n",
       "    <tr>\n",
       "      <th>3.0</th>\n",
       "      <td>141.196429</td>\n",
       "      <td>18.0</td>\n",
       "      <td>450.0</td>\n",
       "      <td>336</td>\n",
       "    </tr>\n",
       "    <tr>\n",
       "      <th>4.0</th>\n",
       "      <td>149.888889</td>\n",
       "      <td>30.0</td>\n",
       "      <td>400.0</td>\n",
       "      <td>171</td>\n",
       "    </tr>\n",
       "    <tr>\n",
       "      <th>5.0</th>\n",
       "      <td>176.980769</td>\n",
       "      <td>20.0</td>\n",
       "      <td>440.0</td>\n",
       "      <td>52</td>\n",
       "    </tr>\n",
       "    <tr>\n",
       "      <th>6.0</th>\n",
       "      <td>187.379310</td>\n",
       "      <td>90.0</td>\n",
       "      <td>450.0</td>\n",
       "      <td>29</td>\n",
       "    </tr>\n",
       "    <tr>\n",
       "      <th>7.0</th>\n",
       "      <td>283.714286</td>\n",
       "      <td>98.0</td>\n",
       "      <td>495.0</td>\n",
       "      <td>7</td>\n",
       "    </tr>\n",
       "    <tr>\n",
       "      <th>8.0</th>\n",
       "      <td>258.333333</td>\n",
       "      <td>200.0</td>\n",
       "      <td>300.0</td>\n",
       "      <td>3</td>\n",
       "    </tr>\n",
       "    <tr>\n",
       "      <th>9.0</th>\n",
       "      <td>375.000000</td>\n",
       "      <td>375.0</td>\n",
       "      <td>375.0</td>\n",
       "      <td>1</td>\n",
       "    </tr>\n",
       "    <tr>\n",
       "      <th>10.0</th>\n",
       "      <td>200.000000</td>\n",
       "      <td>200.0</td>\n",
       "      <td>200.0</td>\n",
       "      <td>2</td>\n",
       "    </tr>\n",
       "    <tr>\n",
       "      <th>14.0</th>\n",
       "      <td>750.000000</td>\n",
       "      <td>750.0</td>\n",
       "      <td>750.0</td>\n",
       "      <td>1</td>\n",
       "    </tr>\n",
       "    <tr>\n",
       "      <th>16.0</th>\n",
       "      <td>50.000000</td>\n",
       "      <td>50.0</td>\n",
       "      <td>50.0</td>\n",
       "      <td>1</td>\n",
       "    </tr>\n",
       "  </tbody>\n",
       "</table>\n",
       "</div>"
      ],
      "text/plain": [
       "        mean_price  min_price  max_price     n\n",
       "n_beds                                        \n",
       "1.0      57.315807       10.0      850.0  2948\n",
       "2.0     107.765273       24.0      400.0   933\n",
       "3.0     141.196429       18.0      450.0   336\n",
       "4.0     149.888889       30.0      400.0   171\n",
       "5.0     176.980769       20.0      440.0    52\n",
       "6.0     187.379310       90.0      450.0    29\n",
       "7.0     283.714286       98.0      495.0     7\n",
       "8.0     258.333333      200.0      300.0     3\n",
       "9.0     375.000000      375.0      375.0     1\n",
       "10.0    200.000000      200.0      200.0     2\n",
       "14.0    750.000000      750.0      750.0     1\n",
       "16.0     50.000000       50.0       50.0     1"
      ]
     },
     "execution_count": 35,
     "metadata": {},
     "output_type": "execute_result"
    }
   ],
   "source": [
    "data.groupby(\"n_beds\").agg(\n",
    "    mean_price=(\"price\", np.mean),\n",
    "    min_price=(\"price\", np.min),\n",
    "    max_price=(\"price\", np.max),\n",
    "    n=(\"price\", \"size\"),\n",
    ")\n"
   ]
  },
  {
   "cell_type": "code",
   "execution_count": 36,
   "metadata": {},
   "outputs": [],
   "source": [
    "# maybe best is to have log beds\n",
    "data[\"ln_beds\"] = np.log(data[\"n_beds\"])\n"
   ]
  },
  {
   "cell_type": "code",
   "execution_count": 37,
   "metadata": {},
   "outputs": [
    {
     "data": {
      "image/png": "[encoded data removed]",
      "text/plain": [
       "<Figure size 640x480 with 1 Axes>"
      ]
     },
     "metadata": {},
     "output_type": "display_data"
    },
    {
     "data": {
      "text/plain": [
       "<ggplot: (368923676)>"
      ]
     },
     "execution_count": 37,
     "metadata": {},
     "output_type": "execute_result"
    }
   ],
   "source": [
    "## bathrooms\n",
    "(\n",
    "    ggplot(data, aes(\"n_bathrooms\"))\n",
    "    + geom_histogram(\n",
    "        binwidth=0.5, closed=\"left\", fill=color[0], color=\"white\", alpha=0.8, size=0.25\n",
    "    )\n",
    "    + ylab(\"\")\n",
    "    + xlab(\"N of bathrooms\")\n",
    "    + theme_bw()\n",
    ")\n"
   ]
  },
  {
   "cell_type": "code",
   "execution_count": 38,
   "metadata": {},
   "outputs": [],
   "source": [
    "# Pool accomodations with 0,1,2,10 bathrooms\n",
    "bins = pd.IntervalIndex.from_tuples([(0, 1), (1, 2), (2, 10)], closed=\"left\")\n",
    "f_bath = pd.cut(data[\"n_bathrooms\"].to_list(), bins, labels=[\"0\", \"1\", \"2\"])\n",
    "f_bath.categories = [0, 1, 2]\n",
    "data[\"f_bathroom\"] = f_bath\n"
   ]
  },
  {
   "cell_type": "code",
   "execution_count": 39,
   "metadata": {},
   "outputs": [
    {
     "data": {
      "text/html": [
       "<div>\n",
       "<style scoped>\n",
       "    .dataframe tbody tr th:only-of-type {\n",
       "        vertical-align: middle;\n",
       "    }\n",
       "\n",
       "    .dataframe tbody tr th {\n",
       "        vertical-align: top;\n",
       "    }\n",
       "\n",
       "    .dataframe thead th {\n",
       "        text-align: right;\n",
       "    }\n",
       "</style>\n",
       "<table border=\"1\" class=\"dataframe\">\n",
       "  <thead>\n",
       "    <tr style=\"text-align: right;\">\n",
       "      <th></th>\n",
       "      <th>mean_price</th>\n",
       "      <th>n</th>\n",
       "    </tr>\n",
       "    <tr>\n",
       "      <th>f_bathroom</th>\n",
       "      <th></th>\n",
       "      <th></th>\n",
       "    </tr>\n",
       "  </thead>\n",
       "  <tbody>\n",
       "    <tr>\n",
       "      <th>0</th>\n",
       "      <td>49.055556</td>\n",
       "      <td>36</td>\n",
       "    </tr>\n",
       "    <tr>\n",
       "      <th>1</th>\n",
       "      <td>73.113102</td>\n",
       "      <td>3740</td>\n",
       "    </tr>\n",
       "    <tr>\n",
       "      <th>2</th>\n",
       "      <td>121.389592</td>\n",
       "      <td>711</td>\n",
       "    </tr>\n",
       "  </tbody>\n",
       "</table>\n",
       "</div>"
      ],
      "text/plain": [
       "            mean_price     n\n",
       "f_bathroom                  \n",
       "0            49.055556    36\n",
       "1            73.113102  3740\n",
       "2           121.389592   711"
      ]
     },
     "execution_count": 39,
     "metadata": {},
     "output_type": "execute_result"
    }
   ],
   "source": [
    "data.groupby(\"f_bathroom\").agg(mean_price=(\"price\", np.mean), n=(\"price\", \"size\"))\n"
   ]
  },
  {
   "cell_type": "code",
   "execution_count": 40,
   "metadata": {},
   "outputs": [],
   "source": [
    "## Number of reviews\n",
    "nreview_plot = data.loc[data.n_number_of_reviews < 100]\n"
   ]
  },
  {
   "cell_type": "code",
   "execution_count": 41,
   "metadata": {},
   "outputs": [
    {
     "data": {
      "image/png": "[encoded data removed]",
      "text/plain": [
       "<Figure size 640x480 with 1 Axes>"
      ]
     },
     "metadata": {},
     "output_type": "display_data"
    },
    {
     "data": {
      "text/plain": [
       "<ggplot: (369040930)>"
      ]
     },
     "execution_count": 41,
     "metadata": {},
     "output_type": "execute_result"
    }
   ],
   "source": [
    "(\n",
    "    ggplot(nreview_plot, aes(\"n_number_of_reviews\"))\n",
    "    + geom_histogram(binwidth=5, fill=color[0], color=\"white\", alpha=0.8, size=0.25)\n",
    "    + ylab(\"\")\n",
    "    + xlab(\"N of reviews\")\n",
    "    + theme_bw()\n",
    ")\n"
   ]
  },
  {
   "cell_type": "code",
   "execution_count": 42,
   "metadata": {},
   "outputs": [],
   "source": [
    "# number of reviews: use logs as well\n",
    "data[\"ln_number_of_reviews\"] = np.log(data[\"n_number_of_reviews\"] + 1)\n"
   ]
  },
  {
   "cell_type": "code",
   "execution_count": 43,
   "metadata": {},
   "outputs": [
    {
     "data": {
      "image/png": "[encoded data removed]",
      "text/plain": [
       "<Figure size 640x480 with 1 Axes>"
      ]
     },
     "metadata": {},
     "output_type": "display_data"
    },
    {
     "data": {
      "text/plain": [
       "<ggplot: (369073402)>"
      ]
     },
     "execution_count": 43,
     "metadata": {},
     "output_type": "execute_result"
    }
   ],
   "source": [
    "(\n",
    "    ggplot(data, aes(\"ln_number_of_reviews\"))\n",
    "    + geom_histogram(binwidth=0.5, fill=color[0], color=\"white\", alpha=0.8, size=0.25)\n",
    "    + ylab(\"\")\n",
    "    + xlab(\"Log N of reviews\")\n",
    "    + theme_bw()\n",
    ")\n"
   ]
  },
  {
   "cell_type": "code",
   "execution_count": 44,
   "metadata": {},
   "outputs": [],
   "source": [
    "bins = pd.IntervalIndex.from_tuples(\n",
    "    [(0, 1), (1, 51), (51, max(data.n_number_of_reviews))], closed=\"left\"\n",
    ")\n",
    "f_number_of_reviews = pd.cut(\n",
    "    data[\"n_number_of_reviews\"].to_list(), bins, labels=[\"0\", \"1\", \"2\"]\n",
    ")\n",
    "f_number_of_reviews.categories = [0, 1, 2]\n",
    "data[\"f_number_of_reviews\"] = f_number_of_reviews\n"
   ]
  },
  {
   "cell_type": "code",
   "execution_count": 45,
   "metadata": {
    "scrolled": false
   },
   "outputs": [
    {
     "data": {
      "text/html": [
       "<div>\n",
       "<style scoped>\n",
       "    .dataframe tbody tr th:only-of-type {\n",
       "        vertical-align: middle;\n",
       "    }\n",
       "\n",
       "    .dataframe tbody tr th {\n",
       "        vertical-align: top;\n",
       "    }\n",
       "\n",
       "    .dataframe thead th {\n",
       "        text-align: right;\n",
       "    }\n",
       "</style>\n",
       "<table border=\"1\" class=\"dataframe\">\n",
       "  <thead>\n",
       "    <tr style=\"text-align: right;\">\n",
       "      <th></th>\n",
       "      <th>median_price</th>\n",
       "      <th>mean_price</th>\n",
       "      <th>n</th>\n",
       "    </tr>\n",
       "    <tr>\n",
       "      <th>f_number_of_reviews</th>\n",
       "      <th></th>\n",
       "      <th></th>\n",
       "      <th></th>\n",
       "    </tr>\n",
       "  </thead>\n",
       "  <tbody>\n",
       "    <tr>\n",
       "      <th>0</th>\n",
       "      <td>60.0</td>\n",
       "      <td>80.883617</td>\n",
       "      <td>1349</td>\n",
       "    </tr>\n",
       "    <tr>\n",
       "      <th>1</th>\n",
       "      <td>69.0</td>\n",
       "      <td>79.593952</td>\n",
       "      <td>2943</td>\n",
       "    </tr>\n",
       "    <tr>\n",
       "      <th>2</th>\n",
       "      <td>75.0</td>\n",
       "      <td>92.522167</td>\n",
       "      <td>203</td>\n",
       "    </tr>\n",
       "  </tbody>\n",
       "</table>\n",
       "</div>"
      ],
      "text/plain": [
       "                     median_price  mean_price     n\n",
       "f_number_of_reviews                                \n",
       "0                            60.0   80.883617  1349\n",
       "1                            69.0   79.593952  2943\n",
       "2                            75.0   92.522167   203"
      ]
     },
     "execution_count": 45,
     "metadata": {},
     "output_type": "execute_result"
    }
   ],
   "source": [
    "data.groupby(\"f_number_of_reviews\").agg(\n",
    "    median_price=(\"price\", np.median),\n",
    "    mean_price=(\"price\", np.mean),\n",
    "    n=(\"price\", \"size\"),\n",
    ")\n"
   ]
  },
  {
   "cell_type": "code",
   "execution_count": 46,
   "metadata": {},
   "outputs": [
    {
     "data": {
      "text/html": [
       "<table class=\"simpletable\">\n",
       "<caption>OLS Regression Results</caption>\n",
       "<tr>\n",
       "  <th>Dep. Variable:</th>        <td>ln_price</td>     <th>  R-squared:         </th> <td>   0.003</td>\n",
       "</tr>\n",
       "<tr>\n",
       "  <th>Model:</th>                   <td>OLS</td>       <th>  Adj. R-squared:    </th> <td>   0.002</td>\n",
       "</tr>\n",
       "<tr>\n",
       "  <th>Method:</th>             <td>Least Squares</td>  <th>  F-statistic:       </th> <td>   6.070</td>\n",
       "</tr>\n",
       "<tr>\n",
       "  <th>Date:</th>             <td>Thu, 06 Oct 2022</td> <th>  Prob (F-statistic):</th>  <td>0.00233</td>\n",
       "</tr>\n",
       "<tr>\n",
       "  <th>Time:</th>                 <td>11:38:19</td>     <th>  Log-Likelihood:    </th> <td> -4167.6</td>\n",
       "</tr>\n",
       "<tr>\n",
       "  <th>No. Observations:</th>      <td>  4495</td>      <th>  AIC:               </th> <td>   8341.</td>\n",
       "</tr>\n",
       "<tr>\n",
       "  <th>Df Residuals:</th>          <td>  4492</td>      <th>  BIC:               </th> <td>   8360.</td>\n",
       "</tr>\n",
       "<tr>\n",
       "  <th>Df Model:</th>              <td>     2</td>      <th>                     </th>     <td> </td>   \n",
       "</tr>\n",
       "<tr>\n",
       "  <th>Covariance Type:</th>      <td>nonrobust</td>    <th>                     </th>     <td> </td>   \n",
       "</tr>\n",
       "</table>\n",
       "<table class=\"simpletable\">\n",
       "<tr>\n",
       "              <td></td>                <th>coef</th>     <th>std err</th>      <th>t</th>      <th>P>|t|</th>  <th>[0.025</th>    <th>0.975]</th>  \n",
       "</tr>\n",
       "<tr>\n",
       "  <th>Intercept</th>                <td>    4.1695</td> <td>    0.017</td> <td>  250.334</td> <td> 0.000</td> <td>    4.137</td> <td>    4.202</td>\n",
       "</tr>\n",
       "<tr>\n",
       "  <th>f_number_of_reviews[T.1]</th> <td>    0.0224</td> <td>    0.020</td> <td>    1.114</td> <td> 0.265</td> <td>   -0.017</td> <td>    0.062</td>\n",
       "</tr>\n",
       "<tr>\n",
       "  <th>f_number_of_reviews[T.2]</th> <td>    0.1604</td> <td>    0.046</td> <td>    3.483</td> <td> 0.000</td> <td>    0.070</td> <td>    0.251</td>\n",
       "</tr>\n",
       "</table>\n",
       "<table class=\"simpletable\">\n",
       "<tr>\n",
       "  <th>Omnibus:</th>       <td>83.309</td> <th>  Durbin-Watson:     </th> <td>   1.979</td>\n",
       "</tr>\n",
       "<tr>\n",
       "  <th>Prob(Omnibus):</th> <td> 0.000</td> <th>  Jarque-Bera (JB):  </th> <td>  82.793</td>\n",
       "</tr>\n",
       "<tr>\n",
       "  <th>Skew:</th>          <td> 0.308</td> <th>  Prob(JB):          </th> <td>1.05e-18</td>\n",
       "</tr>\n",
       "<tr>\n",
       "  <th>Kurtosis:</th>      <td> 2.748</td> <th>  Cond. No.          </th> <td>    6.33</td>\n",
       "</tr>\n",
       "</table><br/><br/>Notes:<br/>[1] Standard Errors assume that the covariance matrix of the errors is correctly specified."
      ],
      "text/plain": [
       "<class 'statsmodels.iolib.summary.Summary'>\n",
       "\"\"\"\n",
       "                            OLS Regression Results                            \n",
       "==============================================================================\n",
       "Dep. Variable:               ln_price   R-squared:                       0.003\n",
       "Model:                            OLS   Adj. R-squared:                  0.002\n",
       "Method:                 Least Squares   F-statistic:                     6.070\n",
       "Date:                Thu, 06 Oct 2022   Prob (F-statistic):            0.00233\n",
       "Time:                        11:38:19   Log-Likelihood:                -4167.6\n",
       "No. Observations:                4495   AIC:                             8341.\n",
       "Df Residuals:                    4492   BIC:                             8360.\n",
       "Df Model:                           2                                         \n",
       "Covariance Type:            nonrobust                                         \n",
       "============================================================================================\n",
       "                               coef    std err          t      P>|t|      [0.025      0.975]\n",
       "--------------------------------------------------------------------------------------------\n",
       "Intercept                    4.1695      0.017    250.334      0.000       4.137       4.202\n",
       "f_number_of_reviews[T.1]     0.0224      0.020      1.114      0.265      -0.017       0.062\n",
       "f_number_of_reviews[T.2]     0.1604      0.046      3.483      0.000       0.070       0.251\n",
       "==============================================================================\n",
       "Omnibus:                       83.309   Durbin-Watson:                   1.979\n",
       "Prob(Omnibus):                  0.000   Jarque-Bera (JB):               82.793\n",
       "Skew:                           0.308   Prob(JB):                     1.05e-18\n",
       "Kurtosis:                       2.748   Cond. No.                         6.33\n",
       "==============================================================================\n",
       "\n",
       "Notes:\n",
       "[1] Standard Errors assume that the covariance matrix of the errors is correctly specified.\n",
       "\"\"\""
      ]
     },
     "execution_count": 46,
     "metadata": {},
     "output_type": "execute_result"
    }
   ],
   "source": [
    "# Regression 1: log-price and number of reviews\n",
    "smf.ols(formula=\"ln_price ~ f_number_of_reviews\", data=data).fit().summary()\n"
   ]
  },
  {
   "cell_type": "code",
   "execution_count": 47,
   "metadata": {},
   "outputs": [
    {
     "data": {
      "text/html": [
       "<table class=\"simpletable\">\n",
       "<caption>OLS Regression Results</caption>\n",
       "<tr>\n",
       "  <th>Dep. Variable:</th>        <td>ln_price</td>     <th>  R-squared:         </th> <td>   0.007</td>\n",
       "</tr>\n",
       "<tr>\n",
       "  <th>Model:</th>                   <td>OLS</td>       <th>  Adj. R-squared:    </th> <td>   0.007</td>\n",
       "</tr>\n",
       "<tr>\n",
       "  <th>Method:</th>             <td>Least Squares</td>  <th>  F-statistic:       </th> <td>   31.08</td>\n",
       "</tr>\n",
       "<tr>\n",
       "  <th>Date:</th>             <td>Thu, 06 Oct 2022</td> <th>  Prob (F-statistic):</th> <td>2.62e-08</td>\n",
       "</tr>\n",
       "<tr>\n",
       "  <th>Time:</th>                 <td>11:38:19</td>     <th>  Log-Likelihood:    </th> <td> -4158.8</td>\n",
       "</tr>\n",
       "<tr>\n",
       "  <th>No. Observations:</th>      <td>  4496</td>      <th>  AIC:               </th> <td>   8322.</td>\n",
       "</tr>\n",
       "<tr>\n",
       "  <th>Df Residuals:</th>          <td>  4494</td>      <th>  BIC:               </th> <td>   8334.</td>\n",
       "</tr>\n",
       "<tr>\n",
       "  <th>Df Model:</th>              <td>     1</td>      <th>                     </th>     <td> </td>   \n",
       "</tr>\n",
       "<tr>\n",
       "  <th>Covariance Type:</th>      <td>nonrobust</td>    <th>                     </th>     <td> </td>   \n",
       "</tr>\n",
       "</table>\n",
       "<table class=\"simpletable\">\n",
       "<tr>\n",
       "            <td></td>              <th>coef</th>     <th>std err</th>      <th>t</th>      <th>P>|t|</th>  <th>[0.025</th>    <th>0.975]</th>  \n",
       "</tr>\n",
       "<tr>\n",
       "  <th>Intercept</th>            <td>    4.1369</td> <td>    0.013</td> <td>  309.822</td> <td> 0.000</td> <td>    4.111</td> <td>    4.163</td>\n",
       "</tr>\n",
       "<tr>\n",
       "  <th>ln_number_of_reviews</th> <td>    0.0385</td> <td>    0.007</td> <td>    5.575</td> <td> 0.000</td> <td>    0.025</td> <td>    0.052</td>\n",
       "</tr>\n",
       "</table>\n",
       "<table class=\"simpletable\">\n",
       "<tr>\n",
       "  <th>Omnibus:</th>       <td>87.003</td> <th>  Durbin-Watson:     </th> <td>   1.979</td>\n",
       "</tr>\n",
       "<tr>\n",
       "  <th>Prob(Omnibus):</th> <td> 0.000</td> <th>  Jarque-Bera (JB):  </th> <td>  87.233</td>\n",
       "</tr>\n",
       "<tr>\n",
       "  <th>Skew:</th>          <td> 0.318</td> <th>  Prob(JB):          </th> <td>1.14e-19</td>\n",
       "</tr>\n",
       "<tr>\n",
       "  <th>Kurtosis:</th>      <td> 2.755</td> <th>  Cond. No.          </th> <td>    3.29</td>\n",
       "</tr>\n",
       "</table><br/><br/>Notes:<br/>[1] Standard Errors assume that the covariance matrix of the errors is correctly specified."
      ],
      "text/plain": [
       "<class 'statsmodels.iolib.summary.Summary'>\n",
       "\"\"\"\n",
       "                            OLS Regression Results                            \n",
       "==============================================================================\n",
       "Dep. Variable:               ln_price   R-squared:                       0.007\n",
       "Model:                            OLS   Adj. R-squared:                  0.007\n",
       "Method:                 Least Squares   F-statistic:                     31.08\n",
       "Date:                Thu, 06 Oct 2022   Prob (F-statistic):           2.62e-08\n",
       "Time:                        11:38:19   Log-Likelihood:                -4158.8\n",
       "No. Observations:                4496   AIC:                             8322.\n",
       "Df Residuals:                    4494   BIC:                             8334.\n",
       "Df Model:                           1                                         \n",
       "Covariance Type:            nonrobust                                         \n",
       "========================================================================================\n",
       "                           coef    std err          t      P>|t|      [0.025      0.975]\n",
       "----------------------------------------------------------------------------------------\n",
       "Intercept                4.1369      0.013    309.822      0.000       4.111       4.163\n",
       "ln_number_of_reviews     0.0385      0.007      5.575      0.000       0.025       0.052\n",
       "==============================================================================\n",
       "Omnibus:                       87.003   Durbin-Watson:                   1.979\n",
       "Prob(Omnibus):                  0.000   Jarque-Bera (JB):               87.233\n",
       "Skew:                           0.318   Prob(JB):                     1.14e-19\n",
       "Kurtosis:                       2.755   Cond. No.                         3.29\n",
       "==============================================================================\n",
       "\n",
       "Notes:\n",
       "[1] Standard Errors assume that the covariance matrix of the errors is correctly specified.\n",
       "\"\"\""
      ]
     },
     "execution_count": 47,
     "metadata": {},
     "output_type": "execute_result"
    }
   ],
   "source": [
    "# Regression 2: log-price and log number of reviews\n",
    "smf.ols(formula=\"ln_price ~ ln_number_of_reviews\", data=data).fit().summary()\n"
   ]
  },
  {
   "cell_type": "code",
   "execution_count": 48,
   "metadata": {
    "scrolled": false
   },
   "outputs": [],
   "source": [
    "## Time since\n",
    "# Create variables, measuring the time since: squared, cubic, logs\n",
    "for var in [\n",
    "    \"ln_days_since\",\n",
    "    \"ln_days_since2\",\n",
    "    \"ln_days_since3\",\n",
    "    \"n_days_since2\",\n",
    "    \"n_days_since3\",\n",
    "]:\n",
    "    if var[:2] == \"ln\":\n",
    "        try:\n",
    "            data[var] = np.log(data[\"n_days_since\"]) ** int(var[-1])\n",
    "        except ValueError:\n",
    "            data[var] = np.log(data[\"n_days_since\"])\n",
    "    else:\n",
    "        data[var] = (data[\"n_days_since\"]) ** int(var[-1])\n"
   ]
  },
  {
   "cell_type": "code",
   "execution_count": 49,
   "metadata": {},
   "outputs": [],
   "source": [
    "# Check the effect\n",
    "lndays_plot = data.loc[(data.price <= 800) & (data.ln_days_since > 2)]\n"
   ]
  },
  {
   "cell_type": "code",
   "execution_count": 50,
   "metadata": {},
   "outputs": [
    {
     "data": {
      "text/plain": [
       "count    4496.000000\n",
       "mean       10.141904\n",
       "std        22.342473\n",
       "min         0.000000\n",
       "25%         0.000000\n",
       "50%         2.000000\n",
       "75%        10.000000\n",
       "max       290.000000\n",
       "Name: n_number_of_reviews, dtype: float64"
      ]
     },
     "execution_count": 50,
     "metadata": {},
     "output_type": "execute_result"
    }
   ],
   "source": [
    "data.n_number_of_reviews.describe()\n"
   ]
  },
  {
   "cell_type": "code",
   "execution_count": 51,
   "metadata": {},
   "outputs": [
    {
     "data": {
      "image/png": "[encoded data removed]",
      "text/plain": [
       "<Figure size 640x480 with 1 Axes>"
      ]
     },
     "metadata": {},
     "output_type": "display_data"
    },
    {
     "data": {
      "text/plain": [
       "<ggplot: (394088647)>"
      ]
     },
     "execution_count": 51,
     "metadata": {},
     "output_type": "execute_result"
    }
   ],
   "source": [
    "(\n",
    "    ggplot(data, aes(x=\"n_number_of_reviews\", y=\"price\"))\n",
    "    + geom_point(size=1.5, colour=color[0])\n",
    "    + ylim(60, 100)\n",
    "    + xlim(0, 20)\n",
    "    + geom_smooth(method=\"loess\", colour=color[1], se=False)\n",
    "    + labs(x=\"Log number of days since first review\", y=\"Log daily price\")\n",
    "    + theme_bw()\n",
    ")\n"
   ]
  },
  {
   "cell_type": "code",
   "execution_count": 52,
   "metadata": {},
   "outputs": [
    {
     "data": {
      "image/png": "[encoded data removed]",
      "text/plain": [
       "<Figure size 640x480 with 1 Axes>"
      ]
     },
     "metadata": {},
     "output_type": "display_data"
    },
    {
     "data": {
      "text/plain": [
       "<ggplot: (394096800)>"
      ]
     },
     "execution_count": 52,
     "metadata": {},
     "output_type": "execute_result"
    }
   ],
   "source": [
    "## review score effect\n",
    "(\n",
    "    ggplot(data, aes(x=\"n_review_scores_rating\", y=\"price\"))\n",
    "    + geom_point(size=1.5, colour=color[0])\n",
    "    + ylim(0, 800)\n",
    "    + xlim(20, 100)\n",
    "    + geom_smooth(method=\"loess\", colour=color[1], se=False)\n",
    "    + labs(x=\"Review score\", y=\"Daily price (USD)\")\n",
    "    + theme_bw()\n",
    ")\n"
   ]
  },
  {
   "cell_type": "code",
   "execution_count": 53,
   "metadata": {},
   "outputs": [],
   "source": [
    "data[\"ln_review_scores_rating\"] = np.log(data[\"n_review_scores_rating\"])\n"
   ]
  },
  {
   "cell_type": "code",
   "execution_count": 54,
   "metadata": {},
   "outputs": [
    {
     "data": {
      "text/html": [
       "<table class=\"simpletable\">\n",
       "<caption>OLS Regression Results</caption>\n",
       "<tr>\n",
       "  <th>Dep. Variable:</th>        <td>ln_price</td>     <th>  R-squared:         </th> <td>   0.007</td>\n",
       "</tr>\n",
       "<tr>\n",
       "  <th>Model:</th>                   <td>OLS</td>       <th>  Adj. R-squared:    </th> <td>   0.006</td>\n",
       "</tr>\n",
       "<tr>\n",
       "  <th>Method:</th>             <td>Least Squares</td>  <th>  F-statistic:       </th> <td>   20.92</td>\n",
       "</tr>\n",
       "<tr>\n",
       "  <th>Date:</th>             <td>Thu, 06 Oct 2022</td> <th>  Prob (F-statistic):</th> <td>4.97e-06</td>\n",
       "</tr>\n",
       "<tr>\n",
       "  <th>Time:</th>                 <td>11:38:20</td>     <th>  Log-Likelihood:    </th> <td> -2763.3</td>\n",
       "</tr>\n",
       "<tr>\n",
       "  <th>No. Observations:</th>      <td>  3073</td>      <th>  AIC:               </th> <td>   5531.</td>\n",
       "</tr>\n",
       "<tr>\n",
       "  <th>Df Residuals:</th>          <td>  3071</td>      <th>  BIC:               </th> <td>   5543.</td>\n",
       "</tr>\n",
       "<tr>\n",
       "  <th>Df Model:</th>              <td>     1</td>      <th>                     </th>     <td> </td>   \n",
       "</tr>\n",
       "<tr>\n",
       "  <th>Covariance Type:</th>      <td>nonrobust</td>    <th>                     </th>     <td> </td>   \n",
       "</tr>\n",
       "</table>\n",
       "<table class=\"simpletable\">\n",
       "<tr>\n",
       "             <td></td>               <th>coef</th>     <th>std err</th>      <th>t</th>      <th>P>|t|</th>  <th>[0.025</th>    <th>0.975]</th>  \n",
       "</tr>\n",
       "<tr>\n",
       "  <th>Intercept</th>              <td>    3.7049</td> <td>    0.110</td> <td>   33.623</td> <td> 0.000</td> <td>    3.489</td> <td>    3.921</td>\n",
       "</tr>\n",
       "<tr>\n",
       "  <th>n_review_scores_rating</th> <td>    0.0054</td> <td>    0.001</td> <td>    4.574</td> <td> 0.000</td> <td>    0.003</td> <td>    0.008</td>\n",
       "</tr>\n",
       "</table>\n",
       "<table class=\"simpletable\">\n",
       "<tr>\n",
       "  <th>Omnibus:</th>       <td>43.235</td> <th>  Durbin-Watson:     </th> <td>   1.970</td>\n",
       "</tr>\n",
       "<tr>\n",
       "  <th>Prob(Omnibus):</th> <td> 0.000</td> <th>  Jarque-Bera (JB):  </th> <td>  43.728</td>\n",
       "</tr>\n",
       "<tr>\n",
       "  <th>Skew:</th>          <td> 0.277</td> <th>  Prob(JB):          </th> <td>3.20e-10</td>\n",
       "</tr>\n",
       "<tr>\n",
       "  <th>Kurtosis:</th>      <td> 2.812</td> <th>  Cond. No.          </th> <td>    963.</td>\n",
       "</tr>\n",
       "</table><br/><br/>Notes:<br/>[1] Standard Errors assume that the covariance matrix of the errors is correctly specified."
      ],
      "text/plain": [
       "<class 'statsmodels.iolib.summary.Summary'>\n",
       "\"\"\"\n",
       "                            OLS Regression Results                            \n",
       "==============================================================================\n",
       "Dep. Variable:               ln_price   R-squared:                       0.007\n",
       "Model:                            OLS   Adj. R-squared:                  0.006\n",
       "Method:                 Least Squares   F-statistic:                     20.92\n",
       "Date:                Thu, 06 Oct 2022   Prob (F-statistic):           4.97e-06\n",
       "Time:                        11:38:20   Log-Likelihood:                -2763.3\n",
       "No. Observations:                3073   AIC:                             5531.\n",
       "Df Residuals:                    3071   BIC:                             5543.\n",
       "Df Model:                           1                                         \n",
       "Covariance Type:            nonrobust                                         \n",
       "==========================================================================================\n",
       "                             coef    std err          t      P>|t|      [0.025      0.975]\n",
       "------------------------------------------------------------------------------------------\n",
       "Intercept                  3.7049      0.110     33.623      0.000       3.489       3.921\n",
       "n_review_scores_rating     0.0054      0.001      4.574      0.000       0.003       0.008\n",
       "==============================================================================\n",
       "Omnibus:                       43.235   Durbin-Watson:                   1.970\n",
       "Prob(Omnibus):                  0.000   Jarque-Bera (JB):               43.728\n",
       "Skew:                           0.277   Prob(JB):                     3.20e-10\n",
       "Kurtosis:                       2.812   Cond. No.                         963.\n",
       "==============================================================================\n",
       "\n",
       "Notes:\n",
       "[1] Standard Errors assume that the covariance matrix of the errors is correctly specified.\n",
       "\"\"\""
      ]
     },
     "execution_count": 54,
     "metadata": {},
     "output_type": "execute_result"
    }
   ],
   "source": [
    "# Regression 1) ln price - num of review scores\n",
    "smf.ols(formula=\"ln_price ~ n_review_scores_rating\", data=data).fit().summary()\n"
   ]
  },
  {
   "cell_type": "code",
   "execution_count": 55,
   "metadata": {},
   "outputs": [
    {
     "data": {
      "text/html": [
       "<table class=\"simpletable\">\n",
       "<caption>OLS Regression Results</caption>\n",
       "<tr>\n",
       "  <th>Dep. Variable:</th>        <td>ln_price</td>     <th>  R-squared:         </th> <td>   0.006</td>\n",
       "</tr>\n",
       "<tr>\n",
       "  <th>Model:</th>                   <td>OLS</td>       <th>  Adj. R-squared:    </th> <td>   0.005</td>\n",
       "</tr>\n",
       "<tr>\n",
       "  <th>Method:</th>             <td>Least Squares</td>  <th>  F-statistic:       </th> <td>   17.53</td>\n",
       "</tr>\n",
       "<tr>\n",
       "  <th>Date:</th>             <td>Thu, 06 Oct 2022</td> <th>  Prob (F-statistic):</th> <td>2.90e-05</td>\n",
       "</tr>\n",
       "<tr>\n",
       "  <th>Time:</th>                 <td>11:38:20</td>     <th>  Log-Likelihood:    </th> <td> -2765.0</td>\n",
       "</tr>\n",
       "<tr>\n",
       "  <th>No. Observations:</th>      <td>  3073</td>      <th>  AIC:               </th> <td>   5534.</td>\n",
       "</tr>\n",
       "<tr>\n",
       "  <th>Df Residuals:</th>          <td>  3071</td>      <th>  BIC:               </th> <td>   5546.</td>\n",
       "</tr>\n",
       "<tr>\n",
       "  <th>Df Model:</th>              <td>     1</td>      <th>                     </th>     <td> </td>   \n",
       "</tr>\n",
       "<tr>\n",
       "  <th>Covariance Type:</th>      <td>nonrobust</td>    <th>                     </th>     <td> </td>   \n",
       "</tr>\n",
       "</table>\n",
       "<table class=\"simpletable\">\n",
       "<tr>\n",
       "             <td></td>                <th>coef</th>     <th>std err</th>      <th>t</th>      <th>P>|t|</th>  <th>[0.025</th>    <th>0.975]</th>  \n",
       "</tr>\n",
       "<tr>\n",
       "  <th>Intercept</th>               <td>    2.6460</td> <td>    0.373</td> <td>    7.097</td> <td> 0.000</td> <td>    1.915</td> <td>    3.377</td>\n",
       "</tr>\n",
       "<tr>\n",
       "  <th>ln_review_scores_rating</th> <td>    0.3445</td> <td>    0.082</td> <td>    4.187</td> <td> 0.000</td> <td>    0.183</td> <td>    0.506</td>\n",
       "</tr>\n",
       "</table>\n",
       "<table class=\"simpletable\">\n",
       "<tr>\n",
       "  <th>Omnibus:</th>       <td>42.516</td> <th>  Durbin-Watson:     </th> <td>   1.971</td>\n",
       "</tr>\n",
       "<tr>\n",
       "  <th>Prob(Omnibus):</th> <td> 0.000</td> <th>  Jarque-Bera (JB):  </th> <td>  42.953</td>\n",
       "</tr>\n",
       "<tr>\n",
       "  <th>Skew:</th>          <td> 0.274</td> <th>  Prob(JB):          </th> <td>4.71e-10</td>\n",
       "</tr>\n",
       "<tr>\n",
       "  <th>Kurtosis:</th>      <td> 2.812</td> <th>  Cond. No.          </th> <td>    165.</td>\n",
       "</tr>\n",
       "</table><br/><br/>Notes:<br/>[1] Standard Errors assume that the covariance matrix of the errors is correctly specified."
      ],
      "text/plain": [
       "<class 'statsmodels.iolib.summary.Summary'>\n",
       "\"\"\"\n",
       "                            OLS Regression Results                            \n",
       "==============================================================================\n",
       "Dep. Variable:               ln_price   R-squared:                       0.006\n",
       "Model:                            OLS   Adj. R-squared:                  0.005\n",
       "Method:                 Least Squares   F-statistic:                     17.53\n",
       "Date:                Thu, 06 Oct 2022   Prob (F-statistic):           2.90e-05\n",
       "Time:                        11:38:20   Log-Likelihood:                -2765.0\n",
       "No. Observations:                3073   AIC:                             5534.\n",
       "Df Residuals:                    3071   BIC:                             5546.\n",
       "Df Model:                           1                                         \n",
       "Covariance Type:            nonrobust                                         \n",
       "===========================================================================================\n",
       "                              coef    std err          t      P>|t|      [0.025      0.975]\n",
       "-------------------------------------------------------------------------------------------\n",
       "Intercept                   2.6460      0.373      7.097      0.000       1.915       3.377\n",
       "ln_review_scores_rating     0.3445      0.082      4.187      0.000       0.183       0.506\n",
       "==============================================================================\n",
       "Omnibus:                       42.516   Durbin-Watson:                   1.971\n",
       "Prob(Omnibus):                  0.000   Jarque-Bera (JB):               42.953\n",
       "Skew:                           0.274   Prob(JB):                     4.71e-10\n",
       "Kurtosis:                       2.812   Cond. No.                         165.\n",
       "==============================================================================\n",
       "\n",
       "Notes:\n",
       "[1] Standard Errors assume that the covariance matrix of the errors is correctly specified.\n",
       "\"\"\""
      ]
     },
     "execution_count": 55,
     "metadata": {},
     "output_type": "execute_result"
    }
   ],
   "source": [
    "# Regression 2) ln price - log num of review scores\n",
    "\n",
    "smf.ols(formula=\"ln_price ~ ln_review_scores_rating\", data=data).fit().summary()\n"
   ]
  },
  {
   "cell_type": "code",
   "execution_count": 56,
   "metadata": {},
   "outputs": [
    {
     "data": {
      "text/html": [
       "<table class=\"simpletable\">\n",
       "<caption>OLS Regression Results</caption>\n",
       "<tr>\n",
       "  <th>Dep. Variable:</th>        <td>ln_price</td>     <th>  R-squared:         </th> <td>   0.000</td>\n",
       "</tr>\n",
       "<tr>\n",
       "  <th>Model:</th>                   <td>OLS</td>       <th>  Adj. R-squared:    </th> <td>  -0.000</td>\n",
       "</tr>\n",
       "<tr>\n",
       "  <th>Method:</th>             <td>Least Squares</td>  <th>  F-statistic:       </th> <td> 0.01189</td>\n",
       "</tr>\n",
       "<tr>\n",
       "  <th>Date:</th>             <td>Thu, 06 Oct 2022</td> <th>  Prob (F-statistic):</th>  <td> 0.913</td> \n",
       "</tr>\n",
       "<tr>\n",
       "  <th>Time:</th>                 <td>11:38:20</td>     <th>  Log-Likelihood:    </th> <td> -4174.3</td>\n",
       "</tr>\n",
       "<tr>\n",
       "  <th>No. Observations:</th>      <td>  4496</td>      <th>  AIC:               </th> <td>   8353.</td>\n",
       "</tr>\n",
       "<tr>\n",
       "  <th>Df Residuals:</th>          <td>  4494</td>      <th>  BIC:               </th> <td>   8365.</td>\n",
       "</tr>\n",
       "<tr>\n",
       "  <th>Df Model:</th>              <td>     1</td>      <th>                     </th>     <td> </td>   \n",
       "</tr>\n",
       "<tr>\n",
       "  <th>Covariance Type:</th>      <td>nonrobust</td>    <th>                     </th>     <td> </td>   \n",
       "</tr>\n",
       "</table>\n",
       "<table class=\"simpletable\">\n",
       "<tr>\n",
       "          <td></td>            <th>coef</th>     <th>std err</th>      <th>t</th>      <th>P>|t|</th>  <th>[0.025</th>    <th>0.975]</th>  \n",
       "</tr>\n",
       "<tr>\n",
       "  <th>Intercept</th>        <td>    4.1919</td> <td>    0.010</td> <td>  409.217</td> <td> 0.000</td> <td>    4.172</td> <td>    4.212</td>\n",
       "</tr>\n",
       "<tr>\n",
       "  <th>n_minimum_nights</th> <td>   -0.0002</td> <td>    0.001</td> <td>   -0.109</td> <td> 0.913</td> <td>   -0.003</td> <td>    0.003</td>\n",
       "</tr>\n",
       "</table>\n",
       "<table class=\"simpletable\">\n",
       "<tr>\n",
       "  <th>Omnibus:</th>       <td>81.934</td> <th>  Durbin-Watson:     </th> <td>   1.983</td>\n",
       "</tr>\n",
       "<tr>\n",
       "  <th>Prob(Omnibus):</th> <td> 0.000</td> <th>  Jarque-Bera (JB):  </th> <td>  81.136</td>\n",
       "</tr>\n",
       "<tr>\n",
       "  <th>Skew:</th>          <td> 0.303</td> <th>  Prob(JB):          </th> <td>2.41e-18</td>\n",
       "</tr>\n",
       "<tr>\n",
       "  <th>Kurtosis:</th>      <td> 2.745</td> <th>  Cond. No.          </th> <td>    7.78</td>\n",
       "</tr>\n",
       "</table><br/><br/>Notes:<br/>[1] Standard Errors assume that the covariance matrix of the errors is correctly specified."
      ],
      "text/plain": [
       "<class 'statsmodels.iolib.summary.Summary'>\n",
       "\"\"\"\n",
       "                            OLS Regression Results                            \n",
       "==============================================================================\n",
       "Dep. Variable:               ln_price   R-squared:                       0.000\n",
       "Model:                            OLS   Adj. R-squared:                 -0.000\n",
       "Method:                 Least Squares   F-statistic:                   0.01189\n",
       "Date:                Thu, 06 Oct 2022   Prob (F-statistic):              0.913\n",
       "Time:                        11:38:20   Log-Likelihood:                -4174.3\n",
       "No. Observations:                4496   AIC:                             8353.\n",
       "Df Residuals:                    4494   BIC:                             8365.\n",
       "Df Model:                           1                                         \n",
       "Covariance Type:            nonrobust                                         \n",
       "====================================================================================\n",
       "                       coef    std err          t      P>|t|      [0.025      0.975]\n",
       "------------------------------------------------------------------------------------\n",
       "Intercept            4.1919      0.010    409.217      0.000       4.172       4.212\n",
       "n_minimum_nights    -0.0002      0.001     -0.109      0.913      -0.003       0.003\n",
       "==============================================================================\n",
       "Omnibus:                       81.934   Durbin-Watson:                   1.983\n",
       "Prob(Omnibus):                  0.000   Jarque-Bera (JB):               81.136\n",
       "Skew:                           0.303   Prob(JB):                     2.41e-18\n",
       "Kurtosis:                       2.745   Cond. No.                         7.78\n",
       "==============================================================================\n",
       "\n",
       "Notes:\n",
       "[1] Standard Errors assume that the covariance matrix of the errors is correctly specified.\n",
       "\"\"\""
      ]
     },
     "execution_count": 56,
     "metadata": {},
     "output_type": "execute_result"
    }
   ],
   "source": [
    "## minimum nights\n",
    "smf.ols(formula=\"ln_price ~ n_minimum_nights\", data=data).fit().summary()\n"
   ]
  },
  {
   "cell_type": "code",
   "execution_count": 57,
   "metadata": {},
   "outputs": [],
   "source": [
    "# Pool and categorize the number of minimum nights: 1,2,3, 3+\n",
    "bins = pd.IntervalIndex.from_tuples(\n",
    "    [(1, 2), (2, 3), (3, max(data.n_minimum_nights))], closed=\"left\"\n",
    ")\n",
    "f_minimum_nights = pd.cut(\n",
    "    data[\"n_minimum_nights\"].to_list(), bins, labels=[\"1\", \"2\", \"3\"]\n",
    ")\n",
    "f_minimum_nights.categories = [1, 2, 3]\n",
    "data[\"f_minimum_nights\"] = f_minimum_nights\n"
   ]
  },
  {
   "cell_type": "code",
   "execution_count": 58,
   "metadata": {},
   "outputs": [
    {
     "data": {
      "text/html": [
       "<table class=\"simpletable\">\n",
       "<caption>OLS Regression Results</caption>\n",
       "<tr>\n",
       "  <th>Dep. Variable:</th>        <td>ln_price</td>     <th>  R-squared:         </th> <td>   0.036</td>\n",
       "</tr>\n",
       "<tr>\n",
       "  <th>Model:</th>                   <td>OLS</td>       <th>  Adj. R-squared:    </th> <td>   0.036</td>\n",
       "</tr>\n",
       "<tr>\n",
       "  <th>Method:</th>             <td>Least Squares</td>  <th>  F-statistic:       </th> <td>   84.84</td>\n",
       "</tr>\n",
       "<tr>\n",
       "  <th>Date:</th>             <td>Thu, 06 Oct 2022</td> <th>  Prob (F-statistic):</th> <td>6.81e-37</td>\n",
       "</tr>\n",
       "<tr>\n",
       "  <th>Time:</th>                 <td>11:38:20</td>     <th>  Log-Likelihood:    </th> <td> -4090.3</td>\n",
       "</tr>\n",
       "<tr>\n",
       "  <th>No. Observations:</th>      <td>  4495</td>      <th>  AIC:               </th> <td>   8187.</td>\n",
       "</tr>\n",
       "<tr>\n",
       "  <th>Df Residuals:</th>          <td>  4492</td>      <th>  BIC:               </th> <td>   8206.</td>\n",
       "</tr>\n",
       "<tr>\n",
       "  <th>Df Model:</th>              <td>     2</td>      <th>                     </th>     <td> </td>   \n",
       "</tr>\n",
       "<tr>\n",
       "  <th>Covariance Type:</th>      <td>nonrobust</td>    <th>                     </th>     <td> </td>   \n",
       "</tr>\n",
       "</table>\n",
       "<table class=\"simpletable\">\n",
       "<tr>\n",
       "            <td></td>               <th>coef</th>     <th>std err</th>      <th>t</th>      <th>P>|t|</th>  <th>[0.025</th>    <th>0.975]</th>  \n",
       "</tr>\n",
       "<tr>\n",
       "  <th>Intercept</th>             <td>    4.0274</td> <td>    0.015</td> <td>  260.605</td> <td> 0.000</td> <td>    3.997</td> <td>    4.058</td>\n",
       "</tr>\n",
       "<tr>\n",
       "  <th>f_minimum_nights[T.2]</th> <td>    0.2433</td> <td>    0.023</td> <td>   10.775</td> <td> 0.000</td> <td>    0.199</td> <td>    0.288</td>\n",
       "</tr>\n",
       "<tr>\n",
       "  <th>f_minimum_nights[T.3]</th> <td>    0.2503</td> <td>    0.021</td> <td>   11.687</td> <td> 0.000</td> <td>    0.208</td> <td>    0.292</td>\n",
       "</tr>\n",
       "</table>\n",
       "<table class=\"simpletable\">\n",
       "<tr>\n",
       "  <th>Omnibus:</th>       <td>54.344</td> <th>  Durbin-Watson:     </th> <td>   1.989</td>\n",
       "</tr>\n",
       "<tr>\n",
       "  <th>Prob(Omnibus):</th> <td> 0.000</td> <th>  Jarque-Bera (JB):  </th> <td>  56.082</td>\n",
       "</tr>\n",
       "<tr>\n",
       "  <th>Skew:</th>          <td> 0.271</td> <th>  Prob(JB):          </th> <td>6.64e-13</td>\n",
       "</tr>\n",
       "<tr>\n",
       "  <th>Kurtosis:</th>      <td> 2.922</td> <th>  Cond. No.          </th> <td>    3.73</td>\n",
       "</tr>\n",
       "</table><br/><br/>Notes:<br/>[1] Standard Errors assume that the covariance matrix of the errors is correctly specified."
      ],
      "text/plain": [
       "<class 'statsmodels.iolib.summary.Summary'>\n",
       "\"\"\"\n",
       "                            OLS Regression Results                            \n",
       "==============================================================================\n",
       "Dep. Variable:               ln_price   R-squared:                       0.036\n",
       "Model:                            OLS   Adj. R-squared:                  0.036\n",
       "Method:                 Least Squares   F-statistic:                     84.84\n",
       "Date:                Thu, 06 Oct 2022   Prob (F-statistic):           6.81e-37\n",
       "Time:                        11:38:20   Log-Likelihood:                -4090.3\n",
       "No. Observations:                4495   AIC:                             8187.\n",
       "Df Residuals:                    4492   BIC:                             8206.\n",
       "Df Model:                           2                                         \n",
       "Covariance Type:            nonrobust                                         \n",
       "=========================================================================================\n",
       "                            coef    std err          t      P>|t|      [0.025      0.975]\n",
       "-----------------------------------------------------------------------------------------\n",
       "Intercept                 4.0274      0.015    260.605      0.000       3.997       4.058\n",
       "f_minimum_nights[T.2]     0.2433      0.023     10.775      0.000       0.199       0.288\n",
       "f_minimum_nights[T.3]     0.2503      0.021     11.687      0.000       0.208       0.292\n",
       "==============================================================================\n",
       "Omnibus:                       54.344   Durbin-Watson:                   1.989\n",
       "Prob(Omnibus):                  0.000   Jarque-Bera (JB):               56.082\n",
       "Skew:                           0.271   Prob(JB):                     6.64e-13\n",
       "Kurtosis:                       2.922   Cond. No.                         3.73\n",
       "==============================================================================\n",
       "\n",
       "Notes:\n",
       "[1] Standard Errors assume that the covariance matrix of the errors is correctly specified.\n",
       "\"\"\""
      ]
     },
     "execution_count": 58,
     "metadata": {},
     "output_type": "execute_result"
    }
   ],
   "source": [
    "## minimum nights\n",
    "smf.ols(formula=\"ln_price ~ f_minimum_nights\", data=data).fit().summary()\n"
   ]
  },
  {
   "cell_type": "code",
   "execution_count": 59,
   "metadata": {},
   "outputs": [
    {
     "data": {
      "text/html": [
       "<div>\n",
       "<style scoped>\n",
       "    .dataframe tbody tr th:only-of-type {\n",
       "        vertical-align: middle;\n",
       "    }\n",
       "\n",
       "    .dataframe tbody tr th {\n",
       "        vertical-align: top;\n",
       "    }\n",
       "\n",
       "    .dataframe thead th {\n",
       "        text-align: right;\n",
       "    }\n",
       "</style>\n",
       "<table border=\"1\" class=\"dataframe\">\n",
       "  <thead>\n",
       "    <tr style=\"text-align: right;\">\n",
       "      <th></th>\n",
       "      <th>mean_price</th>\n",
       "      <th>n</th>\n",
       "    </tr>\n",
       "    <tr>\n",
       "      <th>f_property_type</th>\n",
       "      <th></th>\n",
       "      <th></th>\n",
       "    </tr>\n",
       "  </thead>\n",
       "  <tbody>\n",
       "    <tr>\n",
       "      <th>Apartment</th>\n",
       "      <td>80.729203</td>\n",
       "      <td>3438</td>\n",
       "    </tr>\n",
       "    <tr>\n",
       "      <th>House</th>\n",
       "      <td>79.997164</td>\n",
       "      <td>1058</td>\n",
       "    </tr>\n",
       "  </tbody>\n",
       "</table>\n",
       "</div>"
      ],
      "text/plain": [
       "                 mean_price     n\n",
       "f_property_type                  \n",
       "Apartment         80.729203  3438\n",
       "House             79.997164  1058"
      ]
     },
     "execution_count": 59,
     "metadata": {},
     "output_type": "execute_result"
    }
   ],
   "source": [
    "###########################\n",
    "## look at categoricals  ##\n",
    "###########################\n",
    "data.groupby(\"f_property_type\").agg(mean_price=(\"price\", np.mean), n=(\"price\", \"size\"))\n"
   ]
  },
  {
   "cell_type": "code",
   "execution_count": 60,
   "metadata": {},
   "outputs": [
    {
     "data": {
      "text/html": [
       "<div>\n",
       "<style scoped>\n",
       "    .dataframe tbody tr th:only-of-type {\n",
       "        vertical-align: middle;\n",
       "    }\n",
       "\n",
       "    .dataframe tbody tr th {\n",
       "        vertical-align: top;\n",
       "    }\n",
       "\n",
       "    .dataframe thead th {\n",
       "        text-align: right;\n",
       "    }\n",
       "</style>\n",
       "<table border=\"1\" class=\"dataframe\">\n",
       "  <thead>\n",
       "    <tr style=\"text-align: right;\">\n",
       "      <th></th>\n",
       "      <th>mean_price</th>\n",
       "      <th>n</th>\n",
       "    </tr>\n",
       "    <tr>\n",
       "      <th>f_room_type</th>\n",
       "      <th></th>\n",
       "      <th></th>\n",
       "    </tr>\n",
       "  </thead>\n",
       "  <tbody>\n",
       "    <tr>\n",
       "      <th>Entire home/apt</th>\n",
       "      <td>115.608676</td>\n",
       "      <td>2213</td>\n",
       "    </tr>\n",
       "    <tr>\n",
       "      <th>Private room</th>\n",
       "      <td>46.546543</td>\n",
       "      <td>2256</td>\n",
       "    </tr>\n",
       "    <tr>\n",
       "      <th>Shared room</th>\n",
       "      <td>49.370370</td>\n",
       "      <td>27</td>\n",
       "    </tr>\n",
       "  </tbody>\n",
       "</table>\n",
       "</div>"
      ],
      "text/plain": [
       "                 mean_price     n\n",
       "f_room_type                      \n",
       "Entire home/apt  115.608676  2213\n",
       "Private room      46.546543  2256\n",
       "Shared room       49.370370    27"
      ]
     },
     "execution_count": 60,
     "metadata": {},
     "output_type": "execute_result"
    }
   ],
   "source": [
    "data.groupby(\"f_room_type\").agg(mean_price=(\"price\", np.mean), n=(\"price\", \"size\"))\n"
   ]
  },
  {
   "cell_type": "code",
   "execution_count": 61,
   "metadata": {},
   "outputs": [
    {
     "data": {
      "text/html": [
       "<div>\n",
       "<style scoped>\n",
       "    .dataframe tbody tr th:only-of-type {\n",
       "        vertical-align: middle;\n",
       "    }\n",
       "\n",
       "    .dataframe tbody tr th {\n",
       "        vertical-align: top;\n",
       "    }\n",
       "\n",
       "    .dataframe thead th {\n",
       "        text-align: right;\n",
       "    }\n",
       "</style>\n",
       "<table border=\"1\" class=\"dataframe\">\n",
       "  <thead>\n",
       "    <tr style=\"text-align: right;\">\n",
       "      <th></th>\n",
       "      <th>mean_price</th>\n",
       "      <th>n</th>\n",
       "    </tr>\n",
       "    <tr>\n",
       "      <th>f_cancellation_policy</th>\n",
       "      <th></th>\n",
       "      <th></th>\n",
       "    </tr>\n",
       "  </thead>\n",
       "  <tbody>\n",
       "    <tr>\n",
       "      <th>flexible</th>\n",
       "      <td>67.285636</td>\n",
       "      <td>1817</td>\n",
       "    </tr>\n",
       "    <tr>\n",
       "      <th>moderate</th>\n",
       "      <td>79.057624</td>\n",
       "      <td>1128</td>\n",
       "    </tr>\n",
       "    <tr>\n",
       "      <th>strict</th>\n",
       "      <td>97.194713</td>\n",
       "      <td>1551</td>\n",
       "    </tr>\n",
       "  </tbody>\n",
       "</table>\n",
       "</div>"
      ],
      "text/plain": [
       "                       mean_price     n\n",
       "f_cancellation_policy                  \n",
       "flexible                67.285636  1817\n",
       "moderate                79.057624  1128\n",
       "strict                  97.194713  1551"
      ]
     },
     "execution_count": 61,
     "metadata": {},
     "output_type": "execute_result"
    }
   ],
   "source": [
    "data.groupby(\"f_cancellation_policy\").agg(\n",
    "    mean_price=(\"price\", np.mean), n=(\"price\", \"size\")\n",
    ")\n"
   ]
  },
  {
   "cell_type": "code",
   "execution_count": 62,
   "metadata": {},
   "outputs": [
    {
     "data": {
      "text/html": [
       "<div>\n",
       "<style scoped>\n",
       "    .dataframe tbody tr th:only-of-type {\n",
       "        vertical-align: middle;\n",
       "    }\n",
       "\n",
       "    .dataframe tbody tr th {\n",
       "        vertical-align: top;\n",
       "    }\n",
       "\n",
       "    .dataframe thead th {\n",
       "        text-align: right;\n",
       "    }\n",
       "</style>\n",
       "<table border=\"1\" class=\"dataframe\">\n",
       "  <thead>\n",
       "    <tr style=\"text-align: right;\">\n",
       "      <th></th>\n",
       "      <th>mean_price</th>\n",
       "      <th>n</th>\n",
       "    </tr>\n",
       "    <tr>\n",
       "      <th>f_bed_type</th>\n",
       "      <th></th>\n",
       "      <th></th>\n",
       "    </tr>\n",
       "  </thead>\n",
       "  <tbody>\n",
       "    <tr>\n",
       "      <th>Couch</th>\n",
       "      <td>49.091954</td>\n",
       "      <td>87</td>\n",
       "    </tr>\n",
       "    <tr>\n",
       "      <th>Real Bed</th>\n",
       "      <td>81.177818</td>\n",
       "      <td>4409</td>\n",
       "    </tr>\n",
       "  </tbody>\n",
       "</table>\n",
       "</div>"
      ],
      "text/plain": [
       "            mean_price     n\n",
       "f_bed_type                  \n",
       "Couch        49.091954    87\n",
       "Real Bed     81.177818  4409"
      ]
     },
     "execution_count": 62,
     "metadata": {},
     "output_type": "execute_result"
    }
   ],
   "source": [
    "data.groupby(\"f_bed_type\").agg(mean_price=(\"price\", np.mean), n=(\"price\", \"size\"))\n"
   ]
  },
  {
   "cell_type": "code",
   "execution_count": 63,
   "metadata": {},
   "outputs": [
    {
     "data": {
      "text/plain": [
       "ln_days_since     1\n",
       "ln_days_since2    1\n",
       "ln_days_since3    1\n",
       "dtype: int64"
      ]
     },
     "execution_count": 63,
     "metadata": {},
     "output_type": "execute_result"
    }
   ],
   "source": [
    "inf = data.isin([np.inf, -np.inf]).sum()\n",
    "inf[inf > 0]\n"
   ]
  },
  {
   "cell_type": "code",
   "execution_count": 64,
   "metadata": {
    "scrolled": false
   },
   "outputs": [],
   "source": [
    "data = data.replace([np.inf, -np.inf], np.nan)\n"
   ]
  },
  {
   "cell_type": "code",
   "execution_count": 65,
   "metadata": {},
   "outputs": [
    {
     "data": {
      "text/plain": [
       "usd_cleaning_fee           1727\n",
       "p_host_response_rate       1526\n",
       "n_bathrooms                   9\n",
       "n_review_scores_rating     1423\n",
       "n_reviews_per_month        1349\n",
       "n_beds                       12\n",
       "n_days_since               1349\n",
       "ln_beds                      12\n",
       "f_bathroom                    9\n",
       "f_number_of_reviews           1\n",
       "ln_days_since              1350\n",
       "ln_days_since2             1350\n",
       "ln_days_since3             1350\n",
       "n_days_since2              1349\n",
       "n_days_since3              1349\n",
       "ln_review_scores_rating    1423\n",
       "f_minimum_nights              1\n",
       "dtype: int64"
      ]
     },
     "execution_count": 65,
     "metadata": {},
     "output_type": "execute_result"
    }
   ],
   "source": [
    "data.isnull().sum().loc[lambda x: x > 0]"
   ]
  },
  {
   "cell_type": "code",
   "execution_count": 66,
   "metadata": {},
   "outputs": [],
   "source": [
    "data.to_csv(\"airbnb_hackney_workfile_adj_book1.csv\", index=False)\n"
   ]
  },
  {
   "cell_type": "code",
   "execution_count": null,
   "metadata": {},
   "outputs": [],
   "source": []
  }
 ],
 "metadata": {
  "kernelspec": {
   "display_name": "Python 3 (ipykernel)",
   "language": "python",
   "name": "python3"
  },
  "language_info": {
   "codemirror_mode": {
    "name": "ipython",
    "version": 3
   },
   "file_extension": ".py",
   "mimetype": "text/x-python",
   "name": "python",
   "nbconvert_exporter": "python",
   "pygments_lexer": "ipython3",
   "version": "3.8.10"
  },
  "vscode": {
   "interpreter": {
    "hash": "c01754e8627d0ea60fdf9a984fbf743943cf4db47884120dd04bfc512143b077"
   }
  }
 },
 "nbformat": 4,
 "nbformat_minor": 4
}
